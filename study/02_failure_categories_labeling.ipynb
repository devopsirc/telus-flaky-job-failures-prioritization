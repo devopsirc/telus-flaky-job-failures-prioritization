{
 "cells": [
  {
   "cell_type": "markdown",
   "metadata": {},
   "source": [
    "# Identify the main categories of intermittent failures"
   ]
  },
  {
   "cell_type": "code",
   "execution_count": 1,
   "metadata": {},
   "outputs": [],
   "source": [
    "# imports\n",
    "import re\n",
    "import os\n",
    "import math\n",
    "import importlib\n",
    "import numpy as np\n",
    "import pandas as pd\n",
    "import plotly.express as px"
   ]
  },
  {
   "cell_type": "code",
   "execution_count": 2,
   "metadata": {},
   "outputs": [],
   "source": [
    "# global variables\n",
    "config = {\n",
    "    \"toImageButtonOptions\": {\n",
    "        \"format\": \"png\",  # one of png, svg, jpeg, webp\n",
    "        \"filename\": \"noise_dist\",\n",
    "        \"height\": 400,\n",
    "        \"width\": 500,\n",
    "        \"scale\": 3,\n",
    "    }\n",
    "}"
   ]
  },
  {
   "cell_type": "code",
   "execution_count": 3,
   "metadata": {},
   "outputs": [],
   "source": [
    "# global function\n",
    "def read_logs(job_id, project_id):\n",
    "    with open(f\"../../telus-flaky-build/data/logs/{project_id}/{project_id}_{job_id}.log\") as f:\n",
    "        logs = f.read()\n",
    "        return logs\n",
    "\n",
    "def view_logs(job_id, project_id):\n",
    "    logs = read_logs(job_id, project_id)\n",
    "    print(logs)"
   ]
  },
  {
   "cell_type": "markdown",
   "metadata": {},
   "source": [
    "### Load data"
   ]
  },
  {
   "cell_type": "code",
   "execution_count": 4,
   "metadata": {},
   "outputs": [
    {
     "data": {
      "text/html": [
       "<div>\n",
       "<style scoped>\n",
       "    .dataframe tbody tr th:only-of-type {\n",
       "        vertical-align: middle;\n",
       "    }\n",
       "\n",
       "    .dataframe tbody tr th {\n",
       "        vertical-align: top;\n",
       "    }\n",
       "\n",
       "    .dataframe thead th {\n",
       "        text-align: right;\n",
       "    }\n",
       "</style>\n",
       "<table border=\"1\" class=\"dataframe\">\n",
       "  <thead>\n",
       "    <tr style=\"text-align: right;\">\n",
       "      <th></th>\n",
       "      <th>id</th>\n",
       "      <th>failure_reason</th>\n",
       "      <th>project</th>\n",
       "      <th>log</th>\n",
       "    </tr>\n",
       "  </thead>\n",
       "  <tbody>\n",
       "    <tr>\n",
       "      <th>0</th>\n",
       "      <td>24005</td>\n",
       "      <td>unknown_failure</td>\n",
       "      <td>44</td>\n",
       "      <td>../../telus-flaky-build/data/logs/44/44_24005.log</td>\n",
       "    </tr>\n",
       "    <tr>\n",
       "      <th>1</th>\n",
       "      <td>24006</td>\n",
       "      <td>unknown_failure</td>\n",
       "      <td>44</td>\n",
       "      <td>../../telus-flaky-build/data/logs/44/44_24006.log</td>\n",
       "    </tr>\n",
       "    <tr>\n",
       "      <th>2</th>\n",
       "      <td>158792</td>\n",
       "      <td>script_failure</td>\n",
       "      <td>44</td>\n",
       "      <td>NaN</td>\n",
       "    </tr>\n",
       "    <tr>\n",
       "      <th>3</th>\n",
       "      <td>102394</td>\n",
       "      <td>script_failure</td>\n",
       "      <td>44</td>\n",
       "      <td>../../telus-flaky-build/data/logs/44/44_102394...</td>\n",
       "    </tr>\n",
       "    <tr>\n",
       "      <th>4</th>\n",
       "      <td>258172</td>\n",
       "      <td>script_failure</td>\n",
       "      <td>44</td>\n",
       "      <td>NaN</td>\n",
       "    </tr>\n",
       "    <tr>\n",
       "      <th>...</th>\n",
       "      <td>...</td>\n",
       "      <td>...</td>\n",
       "      <td>...</td>\n",
       "      <td>...</td>\n",
       "    </tr>\n",
       "    <tr>\n",
       "      <th>7758</th>\n",
       "      <td>447165</td>\n",
       "      <td>script_failure</td>\n",
       "      <td>1374</td>\n",
       "      <td>../../telus-flaky-build/data/logs/1374/1374_44...</td>\n",
       "    </tr>\n",
       "    <tr>\n",
       "      <th>7759</th>\n",
       "      <td>447168</td>\n",
       "      <td>script_failure</td>\n",
       "      <td>1374</td>\n",
       "      <td>../../telus-flaky-build/data/logs/1374/1374_44...</td>\n",
       "    </tr>\n",
       "    <tr>\n",
       "      <th>7760</th>\n",
       "      <td>449990</td>\n",
       "      <td>script_failure</td>\n",
       "      <td>1374</td>\n",
       "      <td>../../telus-flaky-build/data/logs/1374/1374_44...</td>\n",
       "    </tr>\n",
       "    <tr>\n",
       "      <th>7761</th>\n",
       "      <td>406187</td>\n",
       "      <td>script_failure</td>\n",
       "      <td>1374</td>\n",
       "      <td>../../telus-flaky-build/data/logs/1374/1374_40...</td>\n",
       "    </tr>\n",
       "    <tr>\n",
       "      <th>7762</th>\n",
       "      <td>448525</td>\n",
       "      <td>script_failure</td>\n",
       "      <td>1374</td>\n",
       "      <td>../../telus-flaky-build/data/logs/1374/1374_44...</td>\n",
       "    </tr>\n",
       "  </tbody>\n",
       "</table>\n",
       "<p>7763 rows × 4 columns</p>\n",
       "</div>"
      ],
      "text/plain": [
       "          id   failure_reason  project  \\\n",
       "0      24005  unknown_failure       44   \n",
       "1      24006  unknown_failure       44   \n",
       "2     158792   script_failure       44   \n",
       "3     102394   script_failure       44   \n",
       "4     258172   script_failure       44   \n",
       "...      ...              ...      ...   \n",
       "7758  447165   script_failure     1374   \n",
       "7759  447168   script_failure     1374   \n",
       "7760  449990   script_failure     1374   \n",
       "7761  406187   script_failure     1374   \n",
       "7762  448525   script_failure     1374   \n",
       "\n",
       "                                                    log  \n",
       "0     ../../telus-flaky-build/data/logs/44/44_24005.log  \n",
       "1     ../../telus-flaky-build/data/logs/44/44_24006.log  \n",
       "2                                                   NaN  \n",
       "3     ../../telus-flaky-build/data/logs/44/44_102394...  \n",
       "4                                                   NaN  \n",
       "...                                                 ...  \n",
       "7758  ../../telus-flaky-build/data/logs/1374/1374_44...  \n",
       "7759  ../../telus-flaky-build/data/logs/1374/1374_44...  \n",
       "7760  ../../telus-flaky-build/data/logs/1374/1374_44...  \n",
       "7761  ../../telus-flaky-build/data/logs/1374/1374_40...  \n",
       "7762  ../../telus-flaky-build/data/logs/1374/1374_44...  \n",
       "\n",
       "[7763 rows x 4 columns]"
      ]
     },
     "execution_count": 4,
     "metadata": {},
     "output_type": "execute_result"
    }
   ],
   "source": [
    "df = pd.read_csv(\"../data/intermittent_failures.csv\")\n",
    "df"
   ]
  },
  {
   "cell_type": "code",
   "execution_count": 5,
   "metadata": {},
   "outputs": [
    {
     "data": {
      "text/html": [
       "<div>\n",
       "<style scoped>\n",
       "    .dataframe tbody tr th:only-of-type {\n",
       "        vertical-align: middle;\n",
       "    }\n",
       "\n",
       "    .dataframe tbody tr th {\n",
       "        vertical-align: top;\n",
       "    }\n",
       "\n",
       "    .dataframe thead th {\n",
       "        text-align: right;\n",
       "    }\n",
       "</style>\n",
       "<table border=\"1\" class=\"dataframe\">\n",
       "  <thead>\n",
       "    <tr style=\"text-align: right;\">\n",
       "      <th></th>\n",
       "      <th>id</th>\n",
       "      <th>failure_reason</th>\n",
       "      <th>project</th>\n",
       "      <th>log</th>\n",
       "    </tr>\n",
       "  </thead>\n",
       "  <tbody>\n",
       "    <tr>\n",
       "      <th>2</th>\n",
       "      <td>158792</td>\n",
       "      <td>script_failure</td>\n",
       "      <td>44</td>\n",
       "      <td>NaN</td>\n",
       "    </tr>\n",
       "    <tr>\n",
       "      <th>4</th>\n",
       "      <td>258172</td>\n",
       "      <td>script_failure</td>\n",
       "      <td>44</td>\n",
       "      <td>NaN</td>\n",
       "    </tr>\n",
       "    <tr>\n",
       "      <th>5</th>\n",
       "      <td>258184</td>\n",
       "      <td>script_failure</td>\n",
       "      <td>44</td>\n",
       "      <td>NaN</td>\n",
       "    </tr>\n",
       "    <tr>\n",
       "      <th>6</th>\n",
       "      <td>258185</td>\n",
       "      <td>script_failure</td>\n",
       "      <td>44</td>\n",
       "      <td>NaN</td>\n",
       "    </tr>\n",
       "    <tr>\n",
       "      <th>7</th>\n",
       "      <td>258196</td>\n",
       "      <td>script_failure</td>\n",
       "      <td>44</td>\n",
       "      <td>NaN</td>\n",
       "    </tr>\n",
       "    <tr>\n",
       "      <th>...</th>\n",
       "      <td>...</td>\n",
       "      <td>...</td>\n",
       "      <td>...</td>\n",
       "      <td>...</td>\n",
       "    </tr>\n",
       "    <tr>\n",
       "      <th>6523</th>\n",
       "      <td>263005</td>\n",
       "      <td>stuck_or_timeout_failure</td>\n",
       "      <td>1216</td>\n",
       "      <td>NaN</td>\n",
       "    </tr>\n",
       "    <tr>\n",
       "      <th>6524</th>\n",
       "      <td>263006</td>\n",
       "      <td>stuck_or_timeout_failure</td>\n",
       "      <td>1216</td>\n",
       "      <td>NaN</td>\n",
       "    </tr>\n",
       "    <tr>\n",
       "      <th>7000</th>\n",
       "      <td>291838</td>\n",
       "      <td>deployment_rejected</td>\n",
       "      <td>1269</td>\n",
       "      <td>NaN</td>\n",
       "    </tr>\n",
       "    <tr>\n",
       "      <th>7001</th>\n",
       "      <td>292328</td>\n",
       "      <td>deployment_rejected</td>\n",
       "      <td>1269</td>\n",
       "      <td>NaN</td>\n",
       "    </tr>\n",
       "    <tr>\n",
       "      <th>7011</th>\n",
       "      <td>408821</td>\n",
       "      <td>failed_outdated_deployment_job</td>\n",
       "      <td>1272</td>\n",
       "      <td>NaN</td>\n",
       "    </tr>\n",
       "  </tbody>\n",
       "</table>\n",
       "<p>2507 rows × 4 columns</p>\n",
       "</div>"
      ],
      "text/plain": [
       "          id                  failure_reason  project  log\n",
       "2     158792                  script_failure       44  NaN\n",
       "4     258172                  script_failure       44  NaN\n",
       "5     258184                  script_failure       44  NaN\n",
       "6     258185                  script_failure       44  NaN\n",
       "7     258196                  script_failure       44  NaN\n",
       "...      ...                             ...      ...  ...\n",
       "6523  263005        stuck_or_timeout_failure     1216  NaN\n",
       "6524  263006        stuck_or_timeout_failure     1216  NaN\n",
       "7000  291838             deployment_rejected     1269  NaN\n",
       "7001  292328             deployment_rejected     1269  NaN\n",
       "7011  408821  failed_outdated_deployment_job     1272  NaN\n",
       "\n",
       "[2507 rows x 4 columns]"
      ]
     },
     "execution_count": 5,
     "metadata": {},
     "output_type": "execute_result"
    }
   ],
   "source": [
    "df[df[\"log\"].isnull()]"
   ]
  },
  {
   "cell_type": "code",
   "execution_count": 6,
   "metadata": {},
   "outputs": [
    {
     "name": "stdout",
     "output_type": "stream",
     "text": [
      "5256 rows with a non-empty log file.\n"
     ]
    }
   ],
   "source": [
    "# keep only jobs with a log file.\n",
    "df = df[~df[\"log\"].isnull()]\n",
    "print(f\"{df.shape[0]} rows with a non-empty log file.\")"
   ]
  },
  {
   "cell_type": "markdown",
   "metadata": {},
   "source": [
    "### Select two samples for study"
   ]
  },
  {
   "cell_type": "code",
   "execution_count": 7,
   "metadata": {},
   "outputs": [
    {
     "data": {
      "text/plain": [
       "358"
      ]
     },
     "execution_count": 7,
     "metadata": {},
     "output_type": "execute_result"
    }
   ],
   "source": [
    "# Sample size for 95% of confidence and 5% of margin error.\n",
    "# https://www.surveymonkey.com/mp/sample-size-calculator/\n",
    "\n",
    "N = df.shape[0]\n",
    "z = 1.96 # z-score associated with confidence\n",
    "p = 0.5  # standard deviation\n",
    "e = 0.05 # margin of error\n",
    "\n",
    "sample_size = ((z**2 * p*(1 - p)) / e**2) / (1 + ((z**2 * p*(1 - p)) / (e**2 * N)))\n",
    "sample_size = math.ceil(sample_size)\n",
    "sample_size"
   ]
  },
  {
   "cell_type": "markdown",
   "metadata": {},
   "source": [
    "Generate samples of jobs"
   ]
  },
  {
   "cell_type": "code",
   "execution_count": 8,
   "metadata": {},
   "outputs": [],
   "source": [
    "from src.preprocessing import log\n",
    "\n",
    "\n",
    "importlib.invalidate_caches()\n",
    "importlib.reload(log)\n",
    "\n",
    "samples_included_ids = []\n",
    "\n",
    "for i, random_state in enumerate([1, 21]):\n",
    "    sample_file_path = f\"../data/samples/sample{i+1}.csv\"\n",
    "    if os.path.isfile(sample_file_path):\n",
    "        sample = pd.read_csv(sample_file_path)\n",
    "    else:\n",
    "        sample = df[~df[\"id\"].isin(samples_included_ids)].sample(n=sample_size, random_state=random_state)\n",
    "        sample[\"category\"] = None\n",
    "        sample[\"subcategory\"] = None\n",
    "        sample[\"inferred\"] = False\n",
    "        sample[\"log\"] = sample.apply(lambda row: \"\\n\".join(log.preprocess(row[\"project\"], row[\"id\"])), axis=1)\n",
    "        sample.to_csv(sample_file_path, index=False)\n",
    "    samples_included_ids.extend(sample[\"id\"].to_list())"
   ]
  },
  {
   "cell_type": "markdown",
   "metadata": {},
   "source": [
    "### Clustering sample 1 based on manual patterns"
   ]
  },
  {
   "cell_type": "code",
   "execution_count": 10,
   "metadata": {},
   "outputs": [
    {
     "name": "stdout",
     "output_type": "stream",
     "text": [
      "99.44% of jobs are assigned\n"
     ]
    }
   ],
   "source": [
    "sample_file_path = f\"../data/samples/sample1.csv\"\n",
    "sample = pd.read_csv(sample_file_path)\n",
    "sample = sample.fillna(np.nan).replace([np.nan], [None])\n",
    "\n",
    "patterns = pd.read_csv(f\"../src/labeling/patterns_refined.csv\")\n",
    "\n",
    "\n",
    "def assign_category(row):\n",
    "    \"\"\"Infer job group and category based on manual patterns.\"\"\"\n",
    "    if row[\"group\"] is not None:\n",
    "        return row[\"group\"], row[\"category\"]\n",
    "    if row[\"failure_reason\"] == \"stuck_or_timeout_failure\":\n",
    "        return \"limits_exceeded\", row[\"failure_reason\"]\n",
    "    for _, pattern in patterns.iterrows():\n",
    "        logs = read_logs(row[\"id\"], row[\"project\"])\n",
    "        if re.search(pattern[\"regex\"], logs, flags=re.IGNORECASE) is not None:\n",
    "            return pattern[\"group\"], pattern[\"category\"]\n",
    "    return None, None\n",
    "\n",
    "\n",
    "# Automatically assing jobs to categories and subcategories based on manual regex patterns\n",
    "sample[\"group\"], sample[\"category\"] = zip(*sample.apply(assign_category, axis=1))\n",
    "sample.to_csv(sample_file_path, index=False)\n",
    "\n",
    "\n",
    "# Check the obtained coverage\n",
    "n_labeled = sample[~sample[\"group\"].isna()].shape[0]\n",
    "print(f\"{round(float(n_labeled / sample.shape[0]) * 100, 2)}% of jobs are assigned\")"
   ]
  },
  {
   "cell_type": "code",
   "execution_count": 39,
   "metadata": {},
   "outputs": [],
   "source": [
    "def plot_categories(sample: str, col: str = \"category\"):\n",
    "    sample_file_path = f\"../data/samples/{sample}.csv\"\n",
    "    sample = pd.read_csv(sample_file_path)\n",
    "    sample_copy = sample.copy(deep=True)\n",
    "    sample_copy[col] = sample_copy[col].dropna(axis=0)\n",
    "    categories_count = sample_copy[col].value_counts().reset_index()\n",
    "\n",
    "    print(f\"Sample size: {sample.shape[0]}\")\n",
    "    print(f\"{categories_count.shape[0]} categories found\")\n",
    "\n",
    "    fig = px.bar(categories_count, x=col, y=\"count\", template=\"simple_white\")\n",
    "    fig.update_layout(\n",
    "        font_family=\"Rockwell\",\n",
    "        font_size=10,\n",
    "        autosize=True,\n",
    "        margin=dict(l=50, r=100, b=20, t=0, pad=0),\n",
    "        legend=dict(yanchor=\"top\", y=0.99, xanchor=\"left\", x=0.95),\n",
    "        width=1200,\n",
    "        height=400,\n",
    "    )\n",
    "    fig.update_xaxes(tickangle=45)\n",
    "    fig.show(renderer=\"svg\")"
   ]
  },
  {
   "cell_type": "code",
   "execution_count": 40,
   "metadata": {},
   "outputs": [
    {
     "name": "stdout",
     "output_type": "stream",
     "text": [
      "Sample size: 358\n",
      "44 categories found\n"
     ]
    },
    {
     "data": {
      "image/svg+xml": [
       "<svg class=\"main-svg\" xmlns=\"http://www.w3.org/2000/svg\" xmlns:xlink=\"http://www.w3.org/1999/xlink\" width=\"1200\" height=\"400\" style=\"\" viewBox=\"0 0 1200 400\"><rect x=\"0\" y=\"0\" width=\"1200\" height=\"400\" style=\"fill: rgb(255, 255, 255); fill-opacity: 1;\"/><defs id=\"defs-326013\"><g class=\"clips\"><clipPath id=\"clip326013xyplot\" class=\"plotclip\"><rect width=\"1050\" height=\"249\"/></clipPath><clipPath class=\"axesclip\" id=\"clip326013x\"><rect x=\"50\" y=\"0\" width=\"1050\" height=\"400\"/></clipPath><clipPath class=\"axesclip\" id=\"clip326013y\"><rect x=\"0\" y=\"0\" width=\"1200\" height=\"249\"/></clipPath><clipPath class=\"axesclip\" id=\"clip326013xy\"><rect x=\"50\" y=\"0\" width=\"1050\" height=\"249\"/></clipPath></g><g class=\"gradients\"/><g class=\"patterns\"/></defs><g class=\"bglayer\"/><g class=\"layer-below\"><g class=\"imagelayer\"/><g class=\"shapelayer\"/></g><g class=\"cartesianlayer\"><g class=\"subplot xy\"><g class=\"layer-subplot\"><g class=\"shapelayer\"/><g class=\"imagelayer\"/></g><g class=\"minor-gridlayer\"><g class=\"x\"/><g class=\"y\"/></g><g class=\"gridlayer\"><g class=\"x\"/><g class=\"y\"/></g><g class=\"zerolinelayer\"/><g class=\"layer-between\"><g class=\"shapelayer\"/><g class=\"imagelayer\"/></g><path class=\"xlines-below\"/><path class=\"ylines-below\"/><g class=\"overlines-below\"/><g class=\"xaxislayer-below\"/><g class=\"yaxislayer-below\"/><g class=\"overaxes-below\"/><g class=\"overplot\"><g class=\"xy\" transform=\"translate(50,0)\" clip-path=\"url(#clip326013xyplot)\"><g class=\"barlayer mlayer\"><g class=\"trace bars\" style=\"opacity: 1;\"><g class=\"points\"><g class=\"point\"><path d=\"M2.39,249V12.45H21.48V249Z\" style=\"vector-effect: none; opacity: 1; stroke-width: 0.5px; fill: rgb(31, 119, 180); fill-opacity: 1; stroke: rgb(255, 255, 255); stroke-opacity: 1;\"/></g><g class=\"point\"><path d=\"M26.25,249V45.3H45.34V249Z\" style=\"vector-effect: none; opacity: 1; stroke-width: 0.5px; fill: rgb(31, 119, 180); fill-opacity: 1; stroke: rgb(255, 255, 255); stroke-opacity: 1;\"/></g><g class=\"point\"><path d=\"M50.11,249V65.02H69.2V249Z\" style=\"vector-effect: none; opacity: 1; stroke-width: 0.5px; fill: rgb(31, 119, 180); fill-opacity: 1; stroke: rgb(255, 255, 255); stroke-opacity: 1;\"/></g><g class=\"point\"><path d=\"M73.98,249V78.16H93.07V249Z\" style=\"vector-effect: none; opacity: 1; stroke-width: 0.5px; fill: rgb(31, 119, 180); fill-opacity: 1; stroke: rgb(255, 255, 255); stroke-opacity: 1;\"/></g><g class=\"point\"><path d=\"M97.84,249V130.73H116.93V249Z\" style=\"vector-effect: none; opacity: 1; stroke-width: 0.5px; fill: rgb(31, 119, 180); fill-opacity: 1; stroke: rgb(255, 255, 255); stroke-opacity: 1;\"/></g><g class=\"point\"><path d=\"M121.7,249V137.3H140.8V249Z\" style=\"vector-effect: none; opacity: 1; stroke-width: 0.5px; fill: rgb(31, 119, 180); fill-opacity: 1; stroke: rgb(255, 255, 255); stroke-opacity: 1;\"/></g><g class=\"point\"><path d=\"M145.57,249V143.87H164.66V249Z\" style=\"vector-effect: none; opacity: 1; stroke-width: 0.5px; fill: rgb(31, 119, 180); fill-opacity: 1; stroke: rgb(255, 255, 255); stroke-opacity: 1;\"/></g><g class=\"point\"><path d=\"M169.43,249V150.44H188.52V249Z\" style=\"vector-effect: none; opacity: 1; stroke-width: 0.5px; fill: rgb(31, 119, 180); fill-opacity: 1; stroke: rgb(255, 255, 255); stroke-opacity: 1;\"/></g><g class=\"point\"><path d=\"M193.3,249V150.44H212.39V249Z\" style=\"vector-effect: none; opacity: 1; stroke-width: 0.5px; fill: rgb(31, 119, 180); fill-opacity: 1; stroke: rgb(255, 255, 255); stroke-opacity: 1;\"/></g><g class=\"point\"><path d=\"M217.16,249V157.01H236.25V249Z\" style=\"vector-effect: none; opacity: 1; stroke-width: 0.5px; fill: rgb(31, 119, 180); fill-opacity: 1; stroke: rgb(255, 255, 255); stroke-opacity: 1;\"/></g><g class=\"point\"><path d=\"M241.02,249V170.15H260.11V249Z\" style=\"vector-effect: none; opacity: 1; stroke-width: 0.5px; fill: rgb(31, 119, 180); fill-opacity: 1; stroke: rgb(255, 255, 255); stroke-opacity: 1;\"/></g><g class=\"point\"><path d=\"M264.89,249V176.72H283.98V249Z\" style=\"vector-effect: none; opacity: 1; stroke-width: 0.5px; fill: rgb(31, 119, 180); fill-opacity: 1; stroke: rgb(255, 255, 255); stroke-opacity: 1;\"/></g><g class=\"point\"><path d=\"M288.75,249V183.29H307.84V249Z\" style=\"vector-effect: none; opacity: 1; stroke-width: 0.5px; fill: rgb(31, 119, 180); fill-opacity: 1; stroke: rgb(255, 255, 255); stroke-opacity: 1;\"/></g><g class=\"point\"><path d=\"M312.61,249V189.86H331.7V249Z\" style=\"vector-effect: none; opacity: 1; stroke-width: 0.5px; fill: rgb(31, 119, 180); fill-opacity: 1; stroke: rgb(255, 255, 255); stroke-opacity: 1;\"/></g><g class=\"point\"><path d=\"M336.48,249V189.86H355.57V249Z\" style=\"vector-effect: none; opacity: 1; stroke-width: 0.5px; fill: rgb(31, 119, 180); fill-opacity: 1; stroke: rgb(255, 255, 255); stroke-opacity: 1;\"/></g><g class=\"point\"><path d=\"M360.34,249V189.86H379.43V249Z\" style=\"vector-effect: none; opacity: 1; stroke-width: 0.5px; fill: rgb(31, 119, 180); fill-opacity: 1; stroke: rgb(255, 255, 255); stroke-opacity: 1;\"/></g><g class=\"point\"><path d=\"M384.2,249V203H403.3V249Z\" style=\"vector-effect: none; opacity: 1; stroke-width: 0.5px; fill: rgb(31, 119, 180); fill-opacity: 1; stroke: rgb(255, 255, 255); stroke-opacity: 1;\"/></g><g class=\"point\"><path d=\"M408.07,249V209.58H427.16V249Z\" style=\"vector-effect: none; opacity: 1; stroke-width: 0.5px; fill: rgb(31, 119, 180); fill-opacity: 1; stroke: rgb(255, 255, 255); stroke-opacity: 1;\"/></g><g class=\"point\"><path d=\"M431.93,249V216.15H451.02V249Z\" style=\"vector-effect: none; opacity: 1; stroke-width: 0.5px; fill: rgb(31, 119, 180); fill-opacity: 1; stroke: rgb(255, 255, 255); stroke-opacity: 1;\"/></g><g class=\"point\"><path d=\"M455.8,249V216.15H474.89V249Z\" style=\"vector-effect: none; opacity: 1; stroke-width: 0.5px; fill: rgb(31, 119, 180); fill-opacity: 1; stroke: rgb(255, 255, 255); stroke-opacity: 1;\"/></g><g class=\"point\"><path d=\"M479.66,249V222.72H498.75V249Z\" style=\"vector-effect: none; opacity: 1; stroke-width: 0.5px; fill: rgb(31, 119, 180); fill-opacity: 1; stroke: rgb(255, 255, 255); stroke-opacity: 1;\"/></g><g class=\"point\"><path d=\"M503.52,249V222.72H522.61V249Z\" style=\"vector-effect: none; opacity: 1; stroke-width: 0.5px; fill: rgb(31, 119, 180); fill-opacity: 1; stroke: rgb(255, 255, 255); stroke-opacity: 1;\"/></g><g class=\"point\"><path d=\"M527.39,249V222.72H546.48V249Z\" style=\"vector-effect: none; opacity: 1; stroke-width: 0.5px; fill: rgb(31, 119, 180); fill-opacity: 1; stroke: rgb(255, 255, 255); stroke-opacity: 1;\"/></g><g class=\"point\"><path d=\"M551.25,249V222.72H570.34V249Z\" style=\"vector-effect: none; opacity: 1; stroke-width: 0.5px; fill: rgb(31, 119, 180); fill-opacity: 1; stroke: rgb(255, 255, 255); stroke-opacity: 1;\"/></g><g class=\"point\"><path d=\"M575.11,249V222.72H594.2V249Z\" style=\"vector-effect: none; opacity: 1; stroke-width: 0.5px; fill: rgb(31, 119, 180); fill-opacity: 1; stroke: rgb(255, 255, 255); stroke-opacity: 1;\"/></g><g class=\"point\"><path d=\"M598.98,249V222.72H618.07V249Z\" style=\"vector-effect: none; opacity: 1; stroke-width: 0.5px; fill: rgb(31, 119, 180); fill-opacity: 1; stroke: rgb(255, 255, 255); stroke-opacity: 1;\"/></g><g class=\"point\"><path d=\"M622.84,249V222.72H641.93V249Z\" style=\"vector-effect: none; opacity: 1; stroke-width: 0.5px; fill: rgb(31, 119, 180); fill-opacity: 1; stroke: rgb(255, 255, 255); stroke-opacity: 1;\"/></g><g class=\"point\"><path d=\"M646.7,249V229.29H665.8V249Z\" style=\"vector-effect: none; opacity: 1; stroke-width: 0.5px; fill: rgb(31, 119, 180); fill-opacity: 1; stroke: rgb(255, 255, 255); stroke-opacity: 1;\"/></g><g class=\"point\"><path d=\"M670.57,249V229.29H689.66V249Z\" style=\"vector-effect: none; opacity: 1; stroke-width: 0.5px; fill: rgb(31, 119, 180); fill-opacity: 1; stroke: rgb(255, 255, 255); stroke-opacity: 1;\"/></g><g class=\"point\"><path d=\"M694.43,249V229.29H713.52V249Z\" style=\"vector-effect: none; opacity: 1; stroke-width: 0.5px; fill: rgb(31, 119, 180); fill-opacity: 1; stroke: rgb(255, 255, 255); stroke-opacity: 1;\"/></g><g class=\"point\"><path d=\"M718.3,249V229.29H737.39V249Z\" style=\"vector-effect: none; opacity: 1; stroke-width: 0.5px; fill: rgb(31, 119, 180); fill-opacity: 1; stroke: rgb(255, 255, 255); stroke-opacity: 1;\"/></g><g class=\"point\"><path d=\"M742.16,249V235.86H761.25V249Z\" style=\"vector-effect: none; opacity: 1; stroke-width: 0.5px; fill: rgb(31, 119, 180); fill-opacity: 1; stroke: rgb(255, 255, 255); stroke-opacity: 1;\"/></g><g class=\"point\"><path d=\"M766.02,249V235.86H785.11V249Z\" style=\"vector-effect: none; opacity: 1; stroke-width: 0.5px; fill: rgb(31, 119, 180); fill-opacity: 1; stroke: rgb(255, 255, 255); stroke-opacity: 1;\"/></g><g class=\"point\"><path d=\"M789.89,249V235.86H808.98V249Z\" style=\"vector-effect: none; opacity: 1; stroke-width: 0.5px; fill: rgb(31, 119, 180); fill-opacity: 1; stroke: rgb(255, 255, 255); stroke-opacity: 1;\"/></g><g class=\"point\"><path d=\"M813.75,249V235.86H832.84V249Z\" style=\"vector-effect: none; opacity: 1; stroke-width: 0.5px; fill: rgb(31, 119, 180); fill-opacity: 1; stroke: rgb(255, 255, 255); stroke-opacity: 1;\"/></g><g class=\"point\"><path d=\"M837.61,249V242.43H856.7V249Z\" style=\"vector-effect: none; opacity: 1; stroke-width: 0.5px; fill: rgb(31, 119, 180); fill-opacity: 1; stroke: rgb(255, 255, 255); stroke-opacity: 1;\"/></g><g class=\"point\"><path d=\"M861.48,249V242.43H880.57V249Z\" style=\"vector-effect: none; opacity: 1; stroke-width: 0.5px; fill: rgb(31, 119, 180); fill-opacity: 1; stroke: rgb(255, 255, 255); stroke-opacity: 1;\"/></g><g class=\"point\"><path d=\"M885.34,249V242.43H904.43V249Z\" style=\"vector-effect: none; opacity: 1; stroke-width: 0.5px; fill: rgb(31, 119, 180); fill-opacity: 1; stroke: rgb(255, 255, 255); stroke-opacity: 1;\"/></g><g class=\"point\"><path d=\"M909.2,249V242.43H928.3V249Z\" style=\"vector-effect: none; opacity: 1; stroke-width: 0.5px; fill: rgb(31, 119, 180); fill-opacity: 1; stroke: rgb(255, 255, 255); stroke-opacity: 1;\"/></g><g class=\"point\"><path d=\"M933.07,249V242.43H952.16V249Z\" style=\"vector-effect: none; opacity: 1; stroke-width: 0.5px; fill: rgb(31, 119, 180); fill-opacity: 1; stroke: rgb(255, 255, 255); stroke-opacity: 1;\"/></g><g class=\"point\"><path d=\"M956.93,249V242.43H976.02V249Z\" style=\"vector-effect: none; opacity: 1; stroke-width: 0.5px; fill: rgb(31, 119, 180); fill-opacity: 1; stroke: rgb(255, 255, 255); stroke-opacity: 1;\"/></g><g class=\"point\"><path d=\"M980.8,249V242.43H999.89V249Z\" style=\"vector-effect: none; opacity: 1; stroke-width: 0.5px; fill: rgb(31, 119, 180); fill-opacity: 1; stroke: rgb(255, 255, 255); stroke-opacity: 1;\"/></g><g class=\"point\"><path d=\"M1004.66,249V242.43H1023.75V249Z\" style=\"vector-effect: none; opacity: 1; stroke-width: 0.5px; fill: rgb(31, 119, 180); fill-opacity: 1; stroke: rgb(255, 255, 255); stroke-opacity: 1;\"/></g><g class=\"point\"><path d=\"M1028.52,249V242.43H1047.61V249Z\" style=\"vector-effect: none; opacity: 1; stroke-width: 0.5px; fill: rgb(31, 119, 180); fill-opacity: 1; stroke: rgb(255, 255, 255); stroke-opacity: 1;\"/></g></g></g></g></g></g><path class=\"xlines-above crisp\" d=\"M49,249.5H1100\" style=\"fill: none; stroke-width: 1px; stroke: rgb(36, 36, 36); stroke-opacity: 1;\"/><path class=\"ylines-above crisp\" d=\"M49.5,0V249\" style=\"fill: none; stroke-width: 1px; stroke: rgb(36, 36, 36); stroke-opacity: 1;\"/><g class=\"overlines-above\"/><g class=\"xaxislayer-above\"><path class=\"xtick ticks crisp\" d=\"M0,250v5\" transform=\"translate(61.93,0)\" style=\"stroke: rgb(68, 68, 68); stroke-opacity: 1; stroke-width: 1px;\"/><path class=\"xtick ticks crisp\" d=\"M0,250v5\" transform=\"translate(85.8,0)\" style=\"stroke: rgb(68, 68, 68); stroke-opacity: 1; stroke-width: 1px;\"/><path class=\"xtick ticks crisp\" d=\"M0,250v5\" transform=\"translate(109.66,0)\" style=\"stroke: rgb(68, 68, 68); stroke-opacity: 1; stroke-width: 1px;\"/><path class=\"xtick ticks crisp\" d=\"M0,250v5\" transform=\"translate(133.51999999999998,0)\" style=\"stroke: rgb(68, 68, 68); stroke-opacity: 1; stroke-width: 1px;\"/><path class=\"xtick ticks crisp\" d=\"M0,250v5\" transform=\"translate(157.39,0)\" style=\"stroke: rgb(68, 68, 68); stroke-opacity: 1; stroke-width: 1px;\"/><path class=\"xtick ticks crisp\" d=\"M0,250v5\" transform=\"translate(181.25,0)\" style=\"stroke: rgb(68, 68, 68); stroke-opacity: 1; stroke-width: 1px;\"/><path class=\"xtick ticks crisp\" d=\"M0,250v5\" transform=\"translate(205.11,0)\" style=\"stroke: rgb(68, 68, 68); stroke-opacity: 1; stroke-width: 1px;\"/><path class=\"xtick ticks crisp\" d=\"M0,250v5\" transform=\"translate(228.98,0)\" style=\"stroke: rgb(68, 68, 68); stroke-opacity: 1; stroke-width: 1px;\"/><path class=\"xtick ticks crisp\" d=\"M0,250v5\" transform=\"translate(252.84,0)\" style=\"stroke: rgb(68, 68, 68); stroke-opacity: 1; stroke-width: 1px;\"/><path class=\"xtick ticks crisp\" d=\"M0,250v5\" transform=\"translate(276.7,0)\" style=\"stroke: rgb(68, 68, 68); stroke-opacity: 1; stroke-width: 1px;\"/><path class=\"xtick ticks crisp\" d=\"M0,250v5\" transform=\"translate(300.57,0)\" style=\"stroke: rgb(68, 68, 68); stroke-opacity: 1; stroke-width: 1px;\"/><path class=\"xtick ticks crisp\" d=\"M0,250v5\" transform=\"translate(324.43,0)\" style=\"stroke: rgb(68, 68, 68); stroke-opacity: 1; stroke-width: 1px;\"/><path class=\"xtick ticks crisp\" d=\"M0,250v5\" transform=\"translate(348.3,0)\" style=\"stroke: rgb(68, 68, 68); stroke-opacity: 1; stroke-width: 1px;\"/><path class=\"xtick ticks crisp\" d=\"M0,250v5\" transform=\"translate(372.16,0)\" style=\"stroke: rgb(68, 68, 68); stroke-opacity: 1; stroke-width: 1px;\"/><path class=\"xtick ticks crisp\" d=\"M0,250v5\" transform=\"translate(396.02,0)\" style=\"stroke: rgb(68, 68, 68); stroke-opacity: 1; stroke-width: 1px;\"/><path class=\"xtick ticks crisp\" d=\"M0,250v5\" transform=\"translate(419.89,0)\" style=\"stroke: rgb(68, 68, 68); stroke-opacity: 1; stroke-width: 1px;\"/><path class=\"xtick ticks crisp\" d=\"M0,250v5\" transform=\"translate(443.75,0)\" style=\"stroke: rgb(68, 68, 68); stroke-opacity: 1; stroke-width: 1px;\"/><path class=\"xtick ticks crisp\" d=\"M0,250v5\" transform=\"translate(467.61,0)\" style=\"stroke: rgb(68, 68, 68); stroke-opacity: 1; stroke-width: 1px;\"/><path class=\"xtick ticks crisp\" d=\"M0,250v5\" transform=\"translate(491.48,0)\" style=\"stroke: rgb(68, 68, 68); stroke-opacity: 1; stroke-width: 1px;\"/><path class=\"xtick ticks crisp\" d=\"M0,250v5\" transform=\"translate(515.3399999999999,0)\" style=\"stroke: rgb(68, 68, 68); stroke-opacity: 1; stroke-width: 1px;\"/><path class=\"xtick ticks crisp\" d=\"M0,250v5\" transform=\"translate(539.2,0)\" style=\"stroke: rgb(68, 68, 68); stroke-opacity: 1; stroke-width: 1px;\"/><path class=\"xtick ticks crisp\" d=\"M0,250v5\" transform=\"translate(563.07,0)\" style=\"stroke: rgb(68, 68, 68); stroke-opacity: 1; stroke-width: 1px;\"/><path class=\"xtick ticks crisp\" d=\"M0,250v5\" transform=\"translate(586.93,0)\" style=\"stroke: rgb(68, 68, 68); stroke-opacity: 1; stroke-width: 1px;\"/><path class=\"xtick ticks crisp\" d=\"M0,250v5\" transform=\"translate(610.8,0)\" style=\"stroke: rgb(68, 68, 68); stroke-opacity: 1; stroke-width: 1px;\"/><path class=\"xtick ticks crisp\" d=\"M0,250v5\" transform=\"translate(634.66,0)\" style=\"stroke: rgb(68, 68, 68); stroke-opacity: 1; stroke-width: 1px;\"/><path class=\"xtick ticks crisp\" d=\"M0,250v5\" transform=\"translate(658.52,0)\" style=\"stroke: rgb(68, 68, 68); stroke-opacity: 1; stroke-width: 1px;\"/><path class=\"xtick ticks crisp\" d=\"M0,250v5\" transform=\"translate(682.39,0)\" style=\"stroke: rgb(68, 68, 68); stroke-opacity: 1; stroke-width: 1px;\"/><path class=\"xtick ticks crisp\" d=\"M0,250v5\" transform=\"translate(706.25,0)\" style=\"stroke: rgb(68, 68, 68); stroke-opacity: 1; stroke-width: 1px;\"/><path class=\"xtick ticks crisp\" d=\"M0,250v5\" transform=\"translate(730.11,0)\" style=\"stroke: rgb(68, 68, 68); stroke-opacity: 1; stroke-width: 1px;\"/><path class=\"xtick ticks crisp\" d=\"M0,250v5\" transform=\"translate(753.98,0)\" style=\"stroke: rgb(68, 68, 68); stroke-opacity: 1; stroke-width: 1px;\"/><path class=\"xtick ticks crisp\" d=\"M0,250v5\" transform=\"translate(777.84,0)\" style=\"stroke: rgb(68, 68, 68); stroke-opacity: 1; stroke-width: 1px;\"/><path class=\"xtick ticks crisp\" d=\"M0,250v5\" transform=\"translate(801.7,0)\" style=\"stroke: rgb(68, 68, 68); stroke-opacity: 1; stroke-width: 1px;\"/><path class=\"xtick ticks crisp\" d=\"M0,250v5\" transform=\"translate(825.57,0)\" style=\"stroke: rgb(68, 68, 68); stroke-opacity: 1; stroke-width: 1px;\"/><path class=\"xtick ticks crisp\" d=\"M0,250v5\" transform=\"translate(849.43,0)\" style=\"stroke: rgb(68, 68, 68); stroke-opacity: 1; stroke-width: 1px;\"/><path class=\"xtick ticks crisp\" d=\"M0,250v5\" transform=\"translate(873.3,0)\" style=\"stroke: rgb(68, 68, 68); stroke-opacity: 1; stroke-width: 1px;\"/><path class=\"xtick ticks crisp\" d=\"M0,250v5\" transform=\"translate(897.16,0)\" style=\"stroke: rgb(68, 68, 68); stroke-opacity: 1; stroke-width: 1px;\"/><path class=\"xtick ticks crisp\" d=\"M0,250v5\" transform=\"translate(921.02,0)\" style=\"stroke: rgb(68, 68, 68); stroke-opacity: 1; stroke-width: 1px;\"/><path class=\"xtick ticks crisp\" d=\"M0,250v5\" transform=\"translate(944.89,0)\" style=\"stroke: rgb(68, 68, 68); stroke-opacity: 1; stroke-width: 1px;\"/><path class=\"xtick ticks crisp\" d=\"M0,250v5\" transform=\"translate(968.75,0)\" style=\"stroke: rgb(68, 68, 68); stroke-opacity: 1; stroke-width: 1px;\"/><path class=\"xtick ticks crisp\" d=\"M0,250v5\" transform=\"translate(992.61,0)\" style=\"stroke: rgb(68, 68, 68); stroke-opacity: 1; stroke-width: 1px;\"/><path class=\"xtick ticks crisp\" d=\"M0,250v5\" transform=\"translate(1016.48,0)\" style=\"stroke: rgb(68, 68, 68); stroke-opacity: 1; stroke-width: 1px;\"/><path class=\"xtick ticks crisp\" d=\"M0,250v5\" transform=\"translate(1040.3400000000001,0)\" style=\"stroke: rgb(68, 68, 68); stroke-opacity: 1; stroke-width: 1px;\"/><path class=\"xtick ticks crisp\" d=\"M0,250v5\" transform=\"translate(1064.2,0)\" style=\"stroke: rgb(68, 68, 68); stroke-opacity: 1; stroke-width: 1px;\"/><path class=\"xtick ticks crisp\" d=\"M0,250v5\" transform=\"translate(1088.07,0)\" style=\"stroke: rgb(68, 68, 68); stroke-opacity: 1; stroke-width: 1px;\"/><g class=\"xtick\"><text text-anchor=\"start\" x=\"0\" y=\"267\" transform=\"translate(61.93,0) rotate(45,0,262)\" style=\"font-family: Rockwell; font-size: 10px; fill: rgb(36, 36, 36); fill-opacity: 1; white-space: pre; opacity: 1;\">environment_variable_misconfigured</text></g><g class=\"xtick\"><text text-anchor=\"start\" x=\"0\" y=\"267\" transform=\"translate(85.8,0) rotate(45,0,262)\" style=\"font-family: Rockwell; font-size: 10px; fill: rgb(36, 36, 36); fill-opacity: 1; white-space: pre; opacity: 1;\">docker_daemon_connection_failure</text></g><g class=\"xtick\"><text text-anchor=\"start\" x=\"0\" y=\"267\" transform=\"translate(109.66,0) rotate(45,0,262)\" style=\"font-family: Rockwell; font-size: 10px; fill: rgb(36, 36, 36); fill-opacity: 1; white-space: pre; opacity: 1;\">job_execution_timeout</text></g><g class=\"xtick\"><text text-anchor=\"start\" x=\"0\" y=\"267\" transform=\"translate(133.51999999999998,0) rotate(45,0,262)\" style=\"font-family: Rockwell; font-size: 10px; fill: rgb(36, 36, 36); fill-opacity: 1; white-space: pre; opacity: 1;\">ocp_auth_failure</text></g><g class=\"xtick\"><text text-anchor=\"start\" x=\"0\" y=\"267\" transform=\"translate(157.39,0) rotate(45,0,262)\" style=\"font-family: Rockwell; font-size: 10px; fill: rgb(36, 36, 36); fill-opacity: 1; white-space: pre; opacity: 1;\">flaky_test</text></g><g class=\"xtick\"><text text-anchor=\"start\" x=\"0\" y=\"267\" transform=\"translate(181.25,0) rotate(45,0,262)\" style=\"font-family: Rockwell; font-size: 10px; fill: rgb(36, 36, 36); fill-opacity: 1; white-space: pre; opacity: 1;\">container_registry_server_error</text></g><g class=\"xtick\"><text text-anchor=\"start\" x=\"0\" y=\"267\" transform=\"translate(205.11,0) rotate(45,0,262)\" style=\"font-family: Rockwell; font-size: 10px; fill: rgb(36, 36, 36); fill-opacity: 1; white-space: pre; opacity: 1;\">external_file_invalid_format</text></g><g class=\"xtick\"><text text-anchor=\"start\" x=\"0\" y=\"267\" transform=\"translate(228.98,0) rotate(45,0,262)\" style=\"font-family: Rockwell; font-size: 10px; fill: rgb(36, 36, 36); fill-opacity: 1; white-space: pre; opacity: 1;\">container_image_not_found</text></g><g class=\"xtick\"><text text-anchor=\"start\" x=\"0\" y=\"267\" transform=\"translate(252.84,0) rotate(45,0,262)\" style=\"font-family: Rockwell; font-size: 10px; fill: rgb(36, 36, 36); fill-opacity: 1; white-space: pre; opacity: 1;\">connection_closed_reset_broken</text></g><g class=\"xtick\"><text text-anchor=\"start\" x=\"0\" y=\"267\" transform=\"translate(276.7,0) rotate(45,0,262)\" style=\"font-family: Rockwell; font-size: 10px; fill: rgb(36, 36, 36); fill-opacity: 1; white-space: pre; opacity: 1;\">apigee_deployment_error</text></g><g class=\"xtick\"><text text-anchor=\"start\" x=\"0\" y=\"267\" transform=\"translate(300.57,0) rotate(45,0,262)\" style=\"font-family: Rockwell; font-size: 10px; fill: rgb(36, 36, 36); fill-opacity: 1; white-space: pre; opacity: 1;\">runner_pod_waiting_timeout</text></g><g class=\"xtick\"><text text-anchor=\"start\" x=\"0\" y=\"267\" transform=\"translate(324.43,0) rotate(45,0,262)\" style=\"font-family: Rockwell; font-size: 10px; fill: rgb(36, 36, 36); fill-opacity: 1; white-space: pre; opacity: 1;\">runner_pod_failure</text></g><g class=\"xtick\"><text text-anchor=\"start\" x=\"0\" y=\"267\" transform=\"translate(348.3,0) rotate(45,0,262)\" style=\"font-family: Rockwell; font-size: 10px; fill: rgb(36, 36, 36); fill-opacity: 1; white-space: pre; opacity: 1;\">repository_file_access_error</text></g><g class=\"xtick\"><text text-anchor=\"start\" x=\"0\" y=\"267\" transform=\"translate(372.16,0) rotate(45,0,262)\" style=\"font-family: Rockwell; font-size: 10px; fill: rgb(36, 36, 36); fill-opacity: 1; white-space: pre; opacity: 1;\">dependency_installation_failure</text></g><g class=\"xtick\"><text text-anchor=\"start\" x=\"0\" y=\"267\" transform=\"translate(396.02,0) rotate(45,0,262)\" style=\"font-family: Rockwell; font-size: 10px; fill: rgb(36, 36, 36); fill-opacity: 1; white-space: pre; opacity: 1;\">remote_call_timeout</text></g><g class=\"xtick\"><text text-anchor=\"start\" x=\"0\" y=\"267\" transform=\"translate(419.89,0) rotate(45,0,262)\" style=\"font-family: Rockwell; font-size: 10px; fill: rgb(36, 36, 36); fill-opacity: 1; white-space: pre; opacity: 1;\">dependency_conflict_resolution_error</text></g><g class=\"xtick\"><text text-anchor=\"start\" x=\"0\" y=\"267\" transform=\"translate(443.75,0) rotate(45,0,262)\" style=\"font-family: Rockwell; font-size: 10px; fill: rgb(36, 36, 36); fill-opacity: 1; white-space: pre; opacity: 1;\">http_resource_not_found</text></g><g class=\"xtick\"><text text-anchor=\"start\" x=\"0\" y=\"267\" transform=\"translate(467.61,0) rotate(45,0,262)\" style=\"font-family: Rockwell; font-size: 10px; fill: rgb(36, 36, 36); fill-opacity: 1; white-space: pre; opacity: 1;\">runner_image_pull_failure</text></g><g class=\"xtick\"><text text-anchor=\"start\" x=\"0\" y=\"267\" transform=\"translate(491.48,0) rotate(45,0,262)\" style=\"font-family: Rockwell; font-size: 10px; fill: rgb(36, 36, 36); fill-opacity: 1; white-space: pre; opacity: 1;\">apt_timezone_issue</text></g><g class=\"xtick\"><text text-anchor=\"start\" x=\"0\" y=\"267\" transform=\"translate(515.3399999999999,0) rotate(45,0,262)\" style=\"font-family: Rockwell; font-size: 10px; fill: rgb(36, 36, 36); fill-opacity: 1; white-space: pre; opacity: 1;\">docker_pull_limit_reached</text></g><g class=\"xtick\"><text text-anchor=\"start\" x=\"0\" y=\"267\" transform=\"translate(539.2,0) rotate(45,0,262)\" style=\"font-family: Rockwell; font-size: 10px; fill: rgb(36, 36, 36); fill-opacity: 1; white-space: pre; opacity: 1;\">connection_refused</text></g><g class=\"xtick\"><text text-anchor=\"start\" x=\"0\" y=\"267\" transform=\"translate(563.07,0) rotate(45,0,262)\" style=\"font-family: Rockwell; font-size: 10px; fill: rgb(36, 36, 36); fill-opacity: 1; white-space: pre; opacity: 1;\">gcloud_token_limit_exceeded</text></g><g class=\"xtick\"><text text-anchor=\"start\" x=\"0\" y=\"267\" transform=\"translate(586.93,0) rotate(45,0,262)\" style=\"font-family: Rockwell; font-size: 10px; fill: rgb(36, 36, 36); fill-opacity: 1; white-space: pre; opacity: 1;\">repository_file_not_found</text></g><g class=\"xtick\"><text text-anchor=\"start\" x=\"0\" y=\"267\" transform=\"translate(610.8,0) rotate(45,0,262)\" style=\"font-family: Rockwell; font-size: 10px; fill: rgb(36, 36, 36); fill-opacity: 1; white-space: pre; opacity: 1;\">host_resolution_failure</text></g><g class=\"xtick\"><text text-anchor=\"start\" x=\"0\" y=\"267\" transform=\"translate(634.66,0) rotate(45,0,262)\" style=\"font-family: Rockwell; font-size: 10px; fill: rgb(36, 36, 36); fill-opacity: 1; white-space: pre; opacity: 1;\">sonarqube_oom_error</text></g><g class=\"xtick\"><text text-anchor=\"start\" x=\"0\" y=\"267\" transform=\"translate(658.52,0) rotate(45,0,262)\" style=\"font-family: Rockwell; font-size: 10px; fill: rgb(36, 36, 36); fill-opacity: 1; white-space: pre; opacity: 1;\">git_transient_error</text></g><g class=\"xtick\"><text text-anchor=\"start\" x=\"0\" y=\"267\" transform=\"translate(682.39,0) rotate(45,0,262)\" style=\"font-family: Rockwell; font-size: 10px; fill: rgb(36, 36, 36); fill-opacity: 1; white-space: pre; opacity: 1;\">certificate_verification_failure</text></g><g class=\"xtick\"><text text-anchor=\"start\" x=\"0\" y=\"267\" transform=\"translate(706.25,0) rotate(45,0,262)\" style=\"font-family: Rockwell; font-size: 10px; fill: rgb(36, 36, 36); fill-opacity: 1; white-space: pre; opacity: 1;\">image_read_error</text></g><g class=\"xtick\"><text text-anchor=\"start\" x=\"0\" y=\"267\" transform=\"translate(730.11,0) rotate(45,0,262)\" style=\"font-family: Rockwell; font-size: 10px; fill: rgb(36, 36, 36); fill-opacity: 1; white-space: pre; opacity: 1;\">repository_access_denied</text></g><g class=\"xtick\"><text text-anchor=\"start\" x=\"0\" y=\"267\" transform=\"translate(753.98,0) rotate(45,0,262)\" style=\"font-family: Rockwell; font-size: 10px; fill: rgb(36, 36, 36); fill-opacity: 1; white-space: pre; opacity: 1;\">helm_resource_error</text></g><g class=\"xtick\"><text text-anchor=\"start\" x=\"0\" y=\"267\" transform=\"translate(777.84,0) rotate(45,0,262)\" style=\"font-family: Rockwell; font-size: 10px; fill: rgb(36, 36, 36); fill-opacity: 1; white-space: pre; opacity: 1;\">container_not_found</text></g><g class=\"xtick\"><text text-anchor=\"start\" x=\"0\" y=\"267\" transform=\"translate(801.7,0) rotate(45,0,262)\" style=\"font-family: Rockwell; font-size: 10px; fill: rgb(36, 36, 36); fill-opacity: 1; white-space: pre; opacity: 1;\">os_cmd_execution_error</text></g><g class=\"xtick\"><text text-anchor=\"start\" x=\"0\" y=\"267\" transform=\"translate(825.57,0) rotate(45,0,262)\" style=\"font-family: Rockwell; font-size: 10px; fill: rgb(36, 36, 36); fill-opacity: 1; white-space: pre; opacity: 1;\">db_table_undefined</text></g><g class=\"xtick\"><text text-anchor=\"start\" x=\"0\" y=\"267\" transform=\"translate(849.43,0) rotate(45,0,262)\" style=\"font-family: Rockwell; font-size: 10px; fill: rgb(36, 36, 36); fill-opacity: 1; white-space: pre; opacity: 1;\">mq_connection_failure</text></g><g class=\"xtick\"><text text-anchor=\"start\" x=\"0\" y=\"267\" transform=\"translate(873.3,0) rotate(45,0,262)\" style=\"font-family: Rockwell; font-size: 10px; fill: rgb(36, 36, 36); fill-opacity: 1; white-space: pre; opacity: 1;\">device_oom_error</text></g><g class=\"xtick\"><text text-anchor=\"start\" x=\"0\" y=\"267\" transform=\"translate(897.16,0) rotate(45,0,262)\" style=\"font-family: Rockwell; font-size: 10px; fill: rgb(36, 36, 36); fill-opacity: 1; white-space: pre; opacity: 1;\">buggy_dependency</text></g><g class=\"xtick\"><text text-anchor=\"start\" x=\"0\" y=\"267\" transform=\"translate(921.02,0) rotate(45,0,262)\" style=\"font-family: Rockwell; font-size: 10px; fill: rgb(36, 36, 36); fill-opacity: 1; white-space: pre; opacity: 1;\">image_security_scan_failure</text></g><g class=\"xtick\"><text text-anchor=\"start\" x=\"0\" y=\"267\" transform=\"translate(944.89,0) rotate(45,0,262)\" style=\"font-family: Rockwell; font-size: 10px; fill: rgb(36, 36, 36); fill-opacity: 1; white-space: pre; opacity: 1;\">ssl_connection_error</text></g><g class=\"xtick\"><text text-anchor=\"start\" x=\"0\" y=\"267\" transform=\"translate(968.75,0) rotate(45,0,262)\" style=\"font-family: Rockwell; font-size: 10px; fill: rgb(36, 36, 36); fill-opacity: 1; white-space: pre; opacity: 1;\">image_push_overwrite_digest_error</text></g><g class=\"xtick\"><text text-anchor=\"start\" x=\"0\" y=\"267\" transform=\"translate(992.61,0) rotate(45,0,262)\" style=\"font-family: Rockwell; font-size: 10px; fill: rgb(36, 36, 36); fill-opacity: 1; white-space: pre; opacity: 1;\">service_unavailable</text></g><g class=\"xtick\"><text text-anchor=\"start\" x=\"0\" y=\"267\" transform=\"translate(1016.48,0) rotate(45,0,262)\" style=\"font-family: Rockwell; font-size: 10px; fill: rgb(36, 36, 36); fill-opacity: 1; white-space: pre; opacity: 1;\">container_already_exists</text></g><g class=\"xtick\"><text text-anchor=\"start\" x=\"0\" y=\"267\" transform=\"translate(1040.3400000000001,0) rotate(45,0,262)\" style=\"font-family: Rockwell; font-size: 10px; fill: rgb(36, 36, 36); fill-opacity: 1; white-space: pre; opacity: 1;\">runner_instance_error</text></g><g class=\"xtick\"><text text-anchor=\"start\" x=\"0\" y=\"267\" transform=\"translate(1064.2,0) rotate(45,0,262)\" style=\"font-family: Rockwell; font-size: 10px; fill: rgb(36, 36, 36); fill-opacity: 1; white-space: pre; opacity: 1;\">stuck_or_timeout_failure</text></g><g class=\"xtick\"><text text-anchor=\"start\" x=\"0\" y=\"267\" transform=\"translate(1088.07,0) rotate(45,0,262)\" style=\"font-family: Rockwell; font-size: 10px; fill: rgb(36, 36, 36); fill-opacity: 1; white-space: pre; opacity: 1;\">image_build_permission_denied</text></g></g><g class=\"yaxislayer-above\"><path class=\"ytick ticks crisp\" d=\"M49,0h-5\" transform=\"translate(0,249)\" style=\"stroke: rgb(68, 68, 68); stroke-opacity: 1; stroke-width: 1px;\"/><path class=\"ytick ticks crisp\" d=\"M49,0h-5\" transform=\"translate(0,183.29)\" style=\"stroke: rgb(68, 68, 68); stroke-opacity: 1; stroke-width: 1px;\"/><path class=\"ytick ticks crisp\" d=\"M49,0h-5\" transform=\"translate(0,117.58)\" style=\"stroke: rgb(68, 68, 68); stroke-opacity: 1; stroke-width: 1px;\"/><path class=\"ytick ticks crisp\" d=\"M49,0h-5\" transform=\"translate(0,51.88)\" style=\"stroke: rgb(68, 68, 68); stroke-opacity: 1; stroke-width: 1px;\"/><g class=\"ytick\"><text text-anchor=\"end\" x=\"42\" y=\"3.5\" transform=\"translate(0,249)\" style=\"font-family: Rockwell; font-size: 10px; fill: rgb(36, 36, 36); fill-opacity: 1; white-space: pre; opacity: 1;\">0</text></g><g class=\"ytick\"><text text-anchor=\"end\" x=\"42\" y=\"3.5\" style=\"font-family: Rockwell; font-size: 10px; fill: rgb(36, 36, 36); fill-opacity: 1; white-space: pre; opacity: 1;\" transform=\"translate(0,183.29)\">10</text></g><g class=\"ytick\"><text text-anchor=\"end\" x=\"42\" y=\"3.5\" style=\"font-family: Rockwell; font-size: 10px; fill: rgb(36, 36, 36); fill-opacity: 1; white-space: pre; opacity: 1;\" transform=\"translate(0,117.58)\">20</text></g><g class=\"ytick\"><text text-anchor=\"end\" x=\"42\" y=\"3.5\" style=\"font-family: Rockwell; font-size: 10px; fill: rgb(36, 36, 36); fill-opacity: 1; white-space: pre; opacity: 1;\" transform=\"translate(0,51.88)\">30</text></g></g><g class=\"overaxes-above\"/></g></g><g class=\"polarlayer\"/><g class=\"smithlayer\"/><g class=\"ternarylayer\"/><g class=\"geolayer\"/><g class=\"funnelarealayer\"/><g class=\"pielayer\"/><g class=\"iciclelayer\"/><g class=\"treemaplayer\"/><g class=\"sunburstlayer\"/><g class=\"glimages\"/><defs id=\"topdefs-326013\"><g class=\"clips\"/></defs><g class=\"layer-above\"><g class=\"imagelayer\"/><g class=\"shapelayer\"/></g><g class=\"infolayer\"><g class=\"g-gtitle\"/><g class=\"g-xtitle\" transform=\"translate(0,-2.0201171874999773)\"><text class=\"xtitle\" x=\"575\" y=\"399.0201171875\" text-anchor=\"middle\" style=\"opacity: 1; font-family: Rockwell; font-size: 12px; fill: rgb(36, 36, 36); fill-opacity: 1; white-space: pre;\">category</text></g><g class=\"g-ytitle\"><text class=\"ytitle\" transform=\"rotate(-90,13.299999999999997,124.5)\" x=\"13.299999999999997\" y=\"124.5\" text-anchor=\"middle\" style=\"opacity: 1; font-family: Rockwell; font-size: 12px; fill: rgb(36, 36, 36); fill-opacity: 1; white-space: pre;\">count</text></g></g></svg>"
      ]
     },
     "metadata": {},
     "output_type": "display_data"
    }
   ],
   "source": [
    "plot_categories(\"sample1\")"
   ]
  },
  {
   "cell_type": "markdown",
   "metadata": {},
   "source": [
    "### Inferring sample 2 categories using refined patterns"
   ]
  },
  {
   "cell_type": "code",
   "execution_count": 11,
   "metadata": {},
   "outputs": [
    {
     "name": "stdout",
     "output_type": "stream",
     "text": [
      "91.34% of jobs are assigned\n"
     ]
    }
   ],
   "source": [
    "sample_file_path = f\"../data/samples/sample2.csv\"\n",
    "sample = pd.read_csv(sample_file_path)\n",
    "sample = sample.fillna(np.nan).replace([np.nan], [None])\n",
    "\n",
    "patterns = pd.read_csv(f\"../src/scripts/patterns_refined.csv\")\n",
    "\n",
    "\n",
    "def assign_category(row):\n",
    "    \"\"\"Infer job group and category based on manual patterns.\"\"\"\n",
    "    if row['group'] is not None:\n",
    "        return row['group'], row['category'], row['inferred']\n",
    "    if row[\"failure_reason\"] == \"stuck_or_timeout_failure\":\n",
    "        return \"limits_exceeded\", row[\"failure_reason\"], True\n",
    "    for _, pattern in patterns.iterrows():\n",
    "        logs = read_logs(row[\"id\"], row[\"project\"])\n",
    "        if re.search(pattern[\"regex\"], logs, flags=re.IGNORECASE) is not None:\n",
    "            return pattern[\"group\"], pattern[\"category\"], True\n",
    "    return None, None, False\n",
    "\n",
    "\n",
    "# Automatically assing jobs to categories and subcategories based on manual regex patterns\n",
    "sample['group'], sample['category'], sample[\"inferred\"] = zip(*sample.apply(assign_category, axis=1))\n",
    "sample.to_csv(sample_file_path, index=False)\n",
    "\n",
    "\n",
    "# Check the obtained coverage\n",
    "n_labeled = sample[~sample[\"group\"].isna()].shape[0]\n",
    "print(f\"{round(float(n_labeled / sample.shape[0]) * 100, 2)}% of jobs are assigned\")"
   ]
  },
  {
   "cell_type": "code",
   "execution_count": 41,
   "metadata": {},
   "outputs": [
    {
     "name": "stdout",
     "output_type": "stream",
     "text": [
      "Sample size: 358\n",
      "39 categories found\n"
     ]
    },
    {
     "data": {
      "image/svg+xml": [
       "<svg class=\"main-svg\" xmlns=\"http://www.w3.org/2000/svg\" xmlns:xlink=\"http://www.w3.org/1999/xlink\" width=\"1200\" height=\"400\" style=\"\" viewBox=\"0 0 1200 400\"><rect x=\"0\" y=\"0\" width=\"1200\" height=\"400\" style=\"fill: rgb(255, 255, 255); fill-opacity: 1;\"/><defs id=\"defs-100514\"><g class=\"clips\"><clipPath id=\"clip100514xyplot\" class=\"plotclip\"><rect width=\"1050\" height=\"249\"/></clipPath><clipPath class=\"axesclip\" id=\"clip100514x\"><rect x=\"50\" y=\"0\" width=\"1050\" height=\"400\"/></clipPath><clipPath class=\"axesclip\" id=\"clip100514y\"><rect x=\"0\" y=\"0\" width=\"1200\" height=\"249\"/></clipPath><clipPath class=\"axesclip\" id=\"clip100514xy\"><rect x=\"50\" y=\"0\" width=\"1050\" height=\"249\"/></clipPath></g><g class=\"gradients\"/><g class=\"patterns\"/></defs><g class=\"bglayer\"/><g class=\"layer-below\"><g class=\"imagelayer\"/><g class=\"shapelayer\"/></g><g class=\"cartesianlayer\"><g class=\"subplot xy\"><g class=\"layer-subplot\"><g class=\"shapelayer\"/><g class=\"imagelayer\"/></g><g class=\"minor-gridlayer\"><g class=\"x\"/><g class=\"y\"/></g><g class=\"gridlayer\"><g class=\"x\"/><g class=\"y\"/></g><g class=\"zerolinelayer\"/><g class=\"layer-between\"><g class=\"shapelayer\"/><g class=\"imagelayer\"/></g><path class=\"xlines-below\"/><path class=\"ylines-below\"/><g class=\"overlines-below\"/><g class=\"xaxislayer-below\"/><g class=\"yaxislayer-below\"/><g class=\"overaxes-below\"/><g class=\"overplot\"><g class=\"xy\" transform=\"translate(50,0)\" clip-path=\"url(#clip100514xyplot)\"><g class=\"barlayer mlayer\"><g class=\"trace bars\" style=\"opacity: 1;\"><g class=\"points\"><g class=\"point\"><path d=\"M2.69,249V12.45H24.23V249Z\" style=\"vector-effect: none; opacity: 1; stroke-width: 0.5px; fill: rgb(31, 119, 180); fill-opacity: 1; stroke: rgb(255, 255, 255); stroke-opacity: 1;\"/></g><g class=\"point\"><path d=\"M29.62,249V142.96H51.15V249Z\" style=\"vector-effect: none; opacity: 1; stroke-width: 0.5px; fill: rgb(31, 119, 180); fill-opacity: 1; stroke: rgb(255, 255, 255); stroke-opacity: 1;\"/></g><g class=\"point\"><path d=\"M56.54,249V163.35H78.08V249Z\" style=\"vector-effect: none; opacity: 1; stroke-width: 0.5px; fill: rgb(31, 119, 180); fill-opacity: 1; stroke: rgb(255, 255, 255); stroke-opacity: 1;\"/></g><g class=\"point\"><path d=\"M83.46,249V171.51H105V249Z\" style=\"vector-effect: none; opacity: 1; stroke-width: 0.5px; fill: rgb(31, 119, 180); fill-opacity: 1; stroke: rgb(255, 255, 255); stroke-opacity: 1;\"/></g><g class=\"point\"><path d=\"M110.38,249V175.59H131.92V249Z\" style=\"vector-effect: none; opacity: 1; stroke-width: 0.5px; fill: rgb(31, 119, 180); fill-opacity: 1; stroke: rgb(255, 255, 255); stroke-opacity: 1;\"/></g><g class=\"point\"><path d=\"M137.31,249V179.67H158.85V249Z\" style=\"vector-effect: none; opacity: 1; stroke-width: 0.5px; fill: rgb(31, 119, 180); fill-opacity: 1; stroke: rgb(255, 255, 255); stroke-opacity: 1;\"/></g><g class=\"point\"><path d=\"M164.23,249V183.74H185.77V249Z\" style=\"vector-effect: none; opacity: 1; stroke-width: 0.5px; fill: rgb(31, 119, 180); fill-opacity: 1; stroke: rgb(255, 255, 255); stroke-opacity: 1;\"/></g><g class=\"point\"><path d=\"M191.15,249V187.82H212.69V249Z\" style=\"vector-effect: none; opacity: 1; stroke-width: 0.5px; fill: rgb(31, 119, 180); fill-opacity: 1; stroke: rgb(255, 255, 255); stroke-opacity: 1;\"/></g><g class=\"point\"><path d=\"M218.08,249V191.9H239.62V249Z\" style=\"vector-effect: none; opacity: 1; stroke-width: 0.5px; fill: rgb(31, 119, 180); fill-opacity: 1; stroke: rgb(255, 255, 255); stroke-opacity: 1;\"/></g><g class=\"point\"><path d=\"M245,249V195.98H266.54V249Z\" style=\"vector-effect: none; opacity: 1; stroke-width: 0.5px; fill: rgb(31, 119, 180); fill-opacity: 1; stroke: rgb(255, 255, 255); stroke-opacity: 1;\"/></g><g class=\"point\"><path d=\"M271.92,249V204.14H293.46V249Z\" style=\"vector-effect: none; opacity: 1; stroke-width: 0.5px; fill: rgb(31, 119, 180); fill-opacity: 1; stroke: rgb(255, 255, 255); stroke-opacity: 1;\"/></g><g class=\"point\"><path d=\"M298.85,249V208.22H320.38V249Z\" style=\"vector-effect: none; opacity: 1; stroke-width: 0.5px; fill: rgb(31, 119, 180); fill-opacity: 1; stroke: rgb(255, 255, 255); stroke-opacity: 1;\"/></g><g class=\"point\"><path d=\"M325.77,249V212.29H347.31V249Z\" style=\"vector-effect: none; opacity: 1; stroke-width: 0.5px; fill: rgb(31, 119, 180); fill-opacity: 1; stroke: rgb(255, 255, 255); stroke-opacity: 1;\"/></g><g class=\"point\"><path d=\"M352.69,249V212.29H374.23V249Z\" style=\"vector-effect: none; opacity: 1; stroke-width: 0.5px; fill: rgb(31, 119, 180); fill-opacity: 1; stroke: rgb(255, 255, 255); stroke-opacity: 1;\"/></g><g class=\"point\"><path d=\"M379.62,249V216.37H401.15V249Z\" style=\"vector-effect: none; opacity: 1; stroke-width: 0.5px; fill: rgb(31, 119, 180); fill-opacity: 1; stroke: rgb(255, 255, 255); stroke-opacity: 1;\"/></g><g class=\"point\"><path d=\"M406.54,249V220.45H428.08V249Z\" style=\"vector-effect: none; opacity: 1; stroke-width: 0.5px; fill: rgb(31, 119, 180); fill-opacity: 1; stroke: rgb(255, 255, 255); stroke-opacity: 1;\"/></g><g class=\"point\"><path d=\"M433.46,249V228.61H455V249Z\" style=\"vector-effect: none; opacity: 1; stroke-width: 0.5px; fill: rgb(31, 119, 180); fill-opacity: 1; stroke: rgb(255, 255, 255); stroke-opacity: 1;\"/></g><g class=\"point\"><path d=\"M460.38,249V228.61H481.92V249Z\" style=\"vector-effect: none; opacity: 1; stroke-width: 0.5px; fill: rgb(31, 119, 180); fill-opacity: 1; stroke: rgb(255, 255, 255); stroke-opacity: 1;\"/></g><g class=\"point\"><path d=\"M487.31,249V232.69H508.85V249Z\" style=\"vector-effect: none; opacity: 1; stroke-width: 0.5px; fill: rgb(31, 119, 180); fill-opacity: 1; stroke: rgb(255, 255, 255); stroke-opacity: 1;\"/></g><g class=\"point\"><path d=\"M514.23,249V232.69H535.77V249Z\" style=\"vector-effect: none; opacity: 1; stroke-width: 0.5px; fill: rgb(31, 119, 180); fill-opacity: 1; stroke: rgb(255, 255, 255); stroke-opacity: 1;\"/></g><g class=\"point\"><path d=\"M541.15,249V232.69H562.69V249Z\" style=\"vector-effect: none; opacity: 1; stroke-width: 0.5px; fill: rgb(31, 119, 180); fill-opacity: 1; stroke: rgb(255, 255, 255); stroke-opacity: 1;\"/></g><g class=\"point\"><path d=\"M568.08,249V232.69H589.62V249Z\" style=\"vector-effect: none; opacity: 1; stroke-width: 0.5px; fill: rgb(31, 119, 180); fill-opacity: 1; stroke: rgb(255, 255, 255); stroke-opacity: 1;\"/></g><g class=\"point\"><path d=\"M595,249V236.76H616.54V249Z\" style=\"vector-effect: none; opacity: 1; stroke-width: 0.5px; fill: rgb(31, 119, 180); fill-opacity: 1; stroke: rgb(255, 255, 255); stroke-opacity: 1;\"/></g><g class=\"point\"><path d=\"M621.92,249V236.76H643.46V249Z\" style=\"vector-effect: none; opacity: 1; stroke-width: 0.5px; fill: rgb(31, 119, 180); fill-opacity: 1; stroke: rgb(255, 255, 255); stroke-opacity: 1;\"/></g><g class=\"point\"><path d=\"M648.85,249V236.76H670.38V249Z\" style=\"vector-effect: none; opacity: 1; stroke-width: 0.5px; fill: rgb(31, 119, 180); fill-opacity: 1; stroke: rgb(255, 255, 255); stroke-opacity: 1;\"/></g><g class=\"point\"><path d=\"M675.77,249V236.76H697.31V249Z\" style=\"vector-effect: none; opacity: 1; stroke-width: 0.5px; fill: rgb(31, 119, 180); fill-opacity: 1; stroke: rgb(255, 255, 255); stroke-opacity: 1;\"/></g><g class=\"point\"><path d=\"M702.69,249V240.84H724.23V249Z\" style=\"vector-effect: none; opacity: 1; stroke-width: 0.5px; fill: rgb(31, 119, 180); fill-opacity: 1; stroke: rgb(255, 255, 255); stroke-opacity: 1;\"/></g><g class=\"point\"><path d=\"M729.62,249V240.84H751.15V249Z\" style=\"vector-effect: none; opacity: 1; stroke-width: 0.5px; fill: rgb(31, 119, 180); fill-opacity: 1; stroke: rgb(255, 255, 255); stroke-opacity: 1;\"/></g><g class=\"point\"><path d=\"M756.54,249V240.84H778.08V249Z\" style=\"vector-effect: none; opacity: 1; stroke-width: 0.5px; fill: rgb(31, 119, 180); fill-opacity: 1; stroke: rgb(255, 255, 255); stroke-opacity: 1;\"/></g><g class=\"point\"><path d=\"M783.46,249V240.84H805V249Z\" style=\"vector-effect: none; opacity: 1; stroke-width: 0.5px; fill: rgb(31, 119, 180); fill-opacity: 1; stroke: rgb(255, 255, 255); stroke-opacity: 1;\"/></g><g class=\"point\"><path d=\"M810.38,249V240.84H831.92V249Z\" style=\"vector-effect: none; opacity: 1; stroke-width: 0.5px; fill: rgb(31, 119, 180); fill-opacity: 1; stroke: rgb(255, 255, 255); stroke-opacity: 1;\"/></g><g class=\"point\"><path d=\"M837.31,249V244.92H858.85V249Z\" style=\"vector-effect: none; opacity: 1; stroke-width: 0.5px; fill: rgb(31, 119, 180); fill-opacity: 1; stroke: rgb(255, 255, 255); stroke-opacity: 1;\"/></g><g class=\"point\"><path d=\"M864.23,249V244.92H885.77V249Z\" style=\"vector-effect: none; opacity: 1; stroke-width: 0.5px; fill: rgb(31, 119, 180); fill-opacity: 1; stroke: rgb(255, 255, 255); stroke-opacity: 1;\"/></g><g class=\"point\"><path d=\"M891.15,249V244.92H912.69V249Z\" style=\"vector-effect: none; opacity: 1; stroke-width: 0.5px; fill: rgb(31, 119, 180); fill-opacity: 1; stroke: rgb(255, 255, 255); stroke-opacity: 1;\"/></g><g class=\"point\"><path d=\"M918.08,249V244.92H939.62V249Z\" style=\"vector-effect: none; opacity: 1; stroke-width: 0.5px; fill: rgb(31, 119, 180); fill-opacity: 1; stroke: rgb(255, 255, 255); stroke-opacity: 1;\"/></g><g class=\"point\"><path d=\"M945,249V244.92H966.54V249Z\" style=\"vector-effect: none; opacity: 1; stroke-width: 0.5px; fill: rgb(31, 119, 180); fill-opacity: 1; stroke: rgb(255, 255, 255); stroke-opacity: 1;\"/></g><g class=\"point\"><path d=\"M971.92,249V244.92H993.46V249Z\" style=\"vector-effect: none; opacity: 1; stroke-width: 0.5px; fill: rgb(31, 119, 180); fill-opacity: 1; stroke: rgb(255, 255, 255); stroke-opacity: 1;\"/></g><g class=\"point\"><path d=\"M998.85,249V244.92H1020.38V249Z\" style=\"vector-effect: none; opacity: 1; stroke-width: 0.5px; fill: rgb(31, 119, 180); fill-opacity: 1; stroke: rgb(255, 255, 255); stroke-opacity: 1;\"/></g><g class=\"point\"><path d=\"M1025.77,249V244.92H1047.31V249Z\" style=\"vector-effect: none; opacity: 1; stroke-width: 0.5px; fill: rgb(31, 119, 180); fill-opacity: 1; stroke: rgb(255, 255, 255); stroke-opacity: 1;\"/></g></g></g></g></g></g><path class=\"xlines-above crisp\" d=\"M49,249.5H1100\" style=\"fill: none; stroke-width: 1px; stroke: rgb(36, 36, 36); stroke-opacity: 1;\"/><path class=\"ylines-above crisp\" d=\"M49.5,0V249\" style=\"fill: none; stroke-width: 1px; stroke: rgb(36, 36, 36); stroke-opacity: 1;\"/><g class=\"overlines-above\"/><g class=\"xaxislayer-above\"><path class=\"xtick ticks crisp\" d=\"M0,250v5\" transform=\"translate(63.46,0)\" style=\"stroke: rgb(68, 68, 68); stroke-opacity: 1; stroke-width: 1px;\"/><path class=\"xtick ticks crisp\" d=\"M0,250v5\" transform=\"translate(90.38,0)\" style=\"stroke: rgb(68, 68, 68); stroke-opacity: 1; stroke-width: 1px;\"/><path class=\"xtick ticks crisp\" d=\"M0,250v5\" transform=\"translate(117.31,0)\" style=\"stroke: rgb(68, 68, 68); stroke-opacity: 1; stroke-width: 1px;\"/><path class=\"xtick ticks crisp\" d=\"M0,250v5\" transform=\"translate(144.23000000000002,0)\" style=\"stroke: rgb(68, 68, 68); stroke-opacity: 1; stroke-width: 1px;\"/><path class=\"xtick ticks crisp\" d=\"M0,250v5\" transform=\"translate(171.15,0)\" style=\"stroke: rgb(68, 68, 68); stroke-opacity: 1; stroke-width: 1px;\"/><path class=\"xtick ticks crisp\" d=\"M0,250v5\" transform=\"translate(198.08,0)\" style=\"stroke: rgb(68, 68, 68); stroke-opacity: 1; stroke-width: 1px;\"/><path class=\"xtick ticks crisp\" d=\"M0,250v5\" transform=\"translate(225,0)\" style=\"stroke: rgb(68, 68, 68); stroke-opacity: 1; stroke-width: 1px;\"/><path class=\"xtick ticks crisp\" d=\"M0,250v5\" transform=\"translate(251.92,0)\" style=\"stroke: rgb(68, 68, 68); stroke-opacity: 1; stroke-width: 1px;\"/><path class=\"xtick ticks crisp\" d=\"M0,250v5\" transform=\"translate(278.85,0)\" style=\"stroke: rgb(68, 68, 68); stroke-opacity: 1; stroke-width: 1px;\"/><path class=\"xtick ticks crisp\" d=\"M0,250v5\" transform=\"translate(305.77,0)\" style=\"stroke: rgb(68, 68, 68); stroke-opacity: 1; stroke-width: 1px;\"/><path class=\"xtick ticks crisp\" d=\"M0,250v5\" transform=\"translate(332.69,0)\" style=\"stroke: rgb(68, 68, 68); stroke-opacity: 1; stroke-width: 1px;\"/><path class=\"xtick ticks crisp\" d=\"M0,250v5\" transform=\"translate(359.62,0)\" style=\"stroke: rgb(68, 68, 68); stroke-opacity: 1; stroke-width: 1px;\"/><path class=\"xtick ticks crisp\" d=\"M0,250v5\" transform=\"translate(386.54,0)\" style=\"stroke: rgb(68, 68, 68); stroke-opacity: 1; stroke-width: 1px;\"/><path class=\"xtick ticks crisp\" d=\"M0,250v5\" transform=\"translate(413.46,0)\" style=\"stroke: rgb(68, 68, 68); stroke-opacity: 1; stroke-width: 1px;\"/><path class=\"xtick ticks crisp\" d=\"M0,250v5\" transform=\"translate(440.38,0)\" style=\"stroke: rgb(68, 68, 68); stroke-opacity: 1; stroke-width: 1px;\"/><path class=\"xtick ticks crisp\" d=\"M0,250v5\" transform=\"translate(467.31,0)\" style=\"stroke: rgb(68, 68, 68); stroke-opacity: 1; stroke-width: 1px;\"/><path class=\"xtick ticks crisp\" d=\"M0,250v5\" transform=\"translate(494.23,0)\" style=\"stroke: rgb(68, 68, 68); stroke-opacity: 1; stroke-width: 1px;\"/><path class=\"xtick ticks crisp\" d=\"M0,250v5\" transform=\"translate(521.15,0)\" style=\"stroke: rgb(68, 68, 68); stroke-opacity: 1; stroke-width: 1px;\"/><path class=\"xtick ticks crisp\" d=\"M0,250v5\" transform=\"translate(548.0799999999999,0)\" style=\"stroke: rgb(68, 68, 68); stroke-opacity: 1; stroke-width: 1px;\"/><path class=\"xtick ticks crisp\" d=\"M0,250v5\" transform=\"translate(575,0)\" style=\"stroke: rgb(68, 68, 68); stroke-opacity: 1; stroke-width: 1px;\"/><path class=\"xtick ticks crisp\" d=\"M0,250v5\" transform=\"translate(601.92,0)\" style=\"stroke: rgb(68, 68, 68); stroke-opacity: 1; stroke-width: 1px;\"/><path class=\"xtick ticks crisp\" d=\"M0,250v5\" transform=\"translate(628.85,0)\" style=\"stroke: rgb(68, 68, 68); stroke-opacity: 1; stroke-width: 1px;\"/><path class=\"xtick ticks crisp\" d=\"M0,250v5\" transform=\"translate(655.77,0)\" style=\"stroke: rgb(68, 68, 68); stroke-opacity: 1; stroke-width: 1px;\"/><path class=\"xtick ticks crisp\" d=\"M0,250v5\" transform=\"translate(682.69,0)\" style=\"stroke: rgb(68, 68, 68); stroke-opacity: 1; stroke-width: 1px;\"/><path class=\"xtick ticks crisp\" d=\"M0,250v5\" transform=\"translate(709.62,0)\" style=\"stroke: rgb(68, 68, 68); stroke-opacity: 1; stroke-width: 1px;\"/><path class=\"xtick ticks crisp\" d=\"M0,250v5\" transform=\"translate(736.54,0)\" style=\"stroke: rgb(68, 68, 68); stroke-opacity: 1; stroke-width: 1px;\"/><path class=\"xtick ticks crisp\" d=\"M0,250v5\" transform=\"translate(763.46,0)\" style=\"stroke: rgb(68, 68, 68); stroke-opacity: 1; stroke-width: 1px;\"/><path class=\"xtick ticks crisp\" d=\"M0,250v5\" transform=\"translate(790.38,0)\" style=\"stroke: rgb(68, 68, 68); stroke-opacity: 1; stroke-width: 1px;\"/><path class=\"xtick ticks crisp\" d=\"M0,250v5\" transform=\"translate(817.31,0)\" style=\"stroke: rgb(68, 68, 68); stroke-opacity: 1; stroke-width: 1px;\"/><path class=\"xtick ticks crisp\" d=\"M0,250v5\" transform=\"translate(844.23,0)\" style=\"stroke: rgb(68, 68, 68); stroke-opacity: 1; stroke-width: 1px;\"/><path class=\"xtick ticks crisp\" d=\"M0,250v5\" transform=\"translate(871.15,0)\" style=\"stroke: rgb(68, 68, 68); stroke-opacity: 1; stroke-width: 1px;\"/><path class=\"xtick ticks crisp\" d=\"M0,250v5\" transform=\"translate(898.08,0)\" style=\"stroke: rgb(68, 68, 68); stroke-opacity: 1; stroke-width: 1px;\"/><path class=\"xtick ticks crisp\" d=\"M0,250v5\" transform=\"translate(925,0)\" style=\"stroke: rgb(68, 68, 68); stroke-opacity: 1; stroke-width: 1px;\"/><path class=\"xtick ticks crisp\" d=\"M0,250v5\" transform=\"translate(951.92,0)\" style=\"stroke: rgb(68, 68, 68); stroke-opacity: 1; stroke-width: 1px;\"/><path class=\"xtick ticks crisp\" d=\"M0,250v5\" transform=\"translate(978.85,0)\" style=\"stroke: rgb(68, 68, 68); stroke-opacity: 1; stroke-width: 1px;\"/><path class=\"xtick ticks crisp\" d=\"M0,250v5\" transform=\"translate(1005.77,0)\" style=\"stroke: rgb(68, 68, 68); stroke-opacity: 1; stroke-width: 1px;\"/><path class=\"xtick ticks crisp\" d=\"M0,250v5\" transform=\"translate(1032.69,0)\" style=\"stroke: rgb(68, 68, 68); stroke-opacity: 1; stroke-width: 1px;\"/><path class=\"xtick ticks crisp\" d=\"M0,250v5\" transform=\"translate(1059.62,0)\" style=\"stroke: rgb(68, 68, 68); stroke-opacity: 1; stroke-width: 1px;\"/><path class=\"xtick ticks crisp\" d=\"M0,250v5\" transform=\"translate(1086.54,0)\" style=\"stroke: rgb(68, 68, 68); stroke-opacity: 1; stroke-width: 1px;\"/><g class=\"xtick\"><text text-anchor=\"start\" x=\"0\" y=\"267\" transform=\"translate(63.46,0) rotate(45,0,262)\" style=\"font-family: Rockwell; font-size: 10px; fill: rgb(36, 36, 36); fill-opacity: 1; white-space: pre; opacity: 1;\">environment_variable_misconfigured</text></g><g class=\"xtick\"><text text-anchor=\"start\" x=\"0\" y=\"267\" transform=\"translate(90.38,0) rotate(45,0,262)\" style=\"font-family: Rockwell; font-size: 10px; fill: rgb(36, 36, 36); fill-opacity: 1; white-space: pre; opacity: 1;\">job_execution_timeout</text></g><g class=\"xtick\"><text text-anchor=\"start\" x=\"0\" y=\"267\" transform=\"translate(117.31,0) rotate(45,0,262)\" style=\"font-family: Rockwell; font-size: 10px; fill: rgb(36, 36, 36); fill-opacity: 1; white-space: pre; opacity: 1;\">runner_pod_waiting_timeout</text></g><g class=\"xtick\"><text text-anchor=\"start\" x=\"0\" y=\"267\" transform=\"translate(144.23000000000002,0) rotate(45,0,262)\" style=\"font-family: Rockwell; font-size: 10px; fill: rgb(36, 36, 36); fill-opacity: 1; white-space: pre; opacity: 1;\">container_registry_server_error</text></g><g class=\"xtick\"><text text-anchor=\"start\" x=\"0\" y=\"267\" transform=\"translate(171.15,0) rotate(45,0,262)\" style=\"font-family: Rockwell; font-size: 10px; fill: rgb(36, 36, 36); fill-opacity: 1; white-space: pre; opacity: 1;\">container_image_not_found</text></g><g class=\"xtick\"><text text-anchor=\"start\" x=\"0\" y=\"267\" transform=\"translate(198.08,0) rotate(45,0,262)\" style=\"font-family: Rockwell; font-size: 10px; fill: rgb(36, 36, 36); fill-opacity: 1; white-space: pre; opacity: 1;\">docker_daemon_connection_failure</text></g><g class=\"xtick\"><text text-anchor=\"start\" x=\"0\" y=\"267\" transform=\"translate(225,0) rotate(45,0,262)\" style=\"font-family: Rockwell; font-size: 10px; fill: rgb(36, 36, 36); fill-opacity: 1; white-space: pre; opacity: 1;\">ocp_auth_failure</text></g><g class=\"xtick\"><text text-anchor=\"start\" x=\"0\" y=\"267\" transform=\"translate(251.92,0) rotate(45,0,262)\" style=\"font-family: Rockwell; font-size: 10px; fill: rgb(36, 36, 36); fill-opacity: 1; white-space: pre; opacity: 1;\">flaky_test</text></g><g class=\"xtick\"><text text-anchor=\"start\" x=\"0\" y=\"267\" transform=\"translate(278.85,0) rotate(45,0,262)\" style=\"font-family: Rockwell; font-size: 10px; fill: rgb(36, 36, 36); fill-opacity: 1; white-space: pre; opacity: 1;\">connection_closed_reset_broken</text></g><g class=\"xtick\"><text text-anchor=\"start\" x=\"0\" y=\"267\" transform=\"translate(305.77,0) rotate(45,0,262)\" style=\"font-family: Rockwell; font-size: 10px; fill: rgb(36, 36, 36); fill-opacity: 1; white-space: pre; opacity: 1;\">apigee_deployment_error</text></g><g class=\"xtick\"><text text-anchor=\"start\" x=\"0\" y=\"267\" transform=\"translate(332.69,0) rotate(45,0,262)\" style=\"font-family: Rockwell; font-size: 10px; fill: rgb(36, 36, 36); fill-opacity: 1; white-space: pre; opacity: 1;\">dependency_conflict_resolution_error</text></g><g class=\"xtick\"><text text-anchor=\"start\" x=\"0\" y=\"267\" transform=\"translate(359.62,0) rotate(45,0,262)\" style=\"font-family: Rockwell; font-size: 10px; fill: rgb(36, 36, 36); fill-opacity: 1; white-space: pre; opacity: 1;\">apt_timezone_issue</text></g><g class=\"xtick\"><text text-anchor=\"start\" x=\"0\" y=\"267\" transform=\"translate(386.54,0) rotate(45,0,262)\" style=\"font-family: Rockwell; font-size: 10px; fill: rgb(36, 36, 36); fill-opacity: 1; white-space: pre; opacity: 1;\">external_file_invalid_format</text></g><g class=\"xtick\"><text text-anchor=\"start\" x=\"0\" y=\"267\" transform=\"translate(413.46,0) rotate(45,0,262)\" style=\"font-family: Rockwell; font-size: 10px; fill: rgb(36, 36, 36); fill-opacity: 1; white-space: pre; opacity: 1;\">git_transient_error</text></g><g class=\"xtick\"><text text-anchor=\"start\" x=\"0\" y=\"267\" transform=\"translate(440.38,0) rotate(45,0,262)\" style=\"font-family: Rockwell; font-size: 10px; fill: rgb(36, 36, 36); fill-opacity: 1; white-space: pre; opacity: 1;\">runner_image_pull_failure</text></g><g class=\"xtick\"><text text-anchor=\"start\" x=\"0\" y=\"267\" transform=\"translate(467.31,0) rotate(45,0,262)\" style=\"font-family: Rockwell; font-size: 10px; fill: rgb(36, 36, 36); fill-opacity: 1; white-space: pre; opacity: 1;\">host_resolution_failure</text></g><g class=\"xtick\"><text text-anchor=\"start\" x=\"0\" y=\"267\" transform=\"translate(494.23,0) rotate(45,0,262)\" style=\"font-family: Rockwell; font-size: 10px; fill: rgb(36, 36, 36); fill-opacity: 1; white-space: pre; opacity: 1;\">helm_resource_error</text></g><g class=\"xtick\"><text text-anchor=\"start\" x=\"0\" y=\"267\" transform=\"translate(521.15,0) rotate(45,0,262)\" style=\"font-family: Rockwell; font-size: 10px; fill: rgb(36, 36, 36); fill-opacity: 1; white-space: pre; opacity: 1;\">remote_call_timeout</text></g><g class=\"xtick\"><text text-anchor=\"start\" x=\"0\" y=\"267\" transform=\"translate(548.0799999999999,0) rotate(45,0,262)\" style=\"font-family: Rockwell; font-size: 10px; fill: rgb(36, 36, 36); fill-opacity: 1; white-space: pre; opacity: 1;\">runner_pod_failure</text></g><g class=\"xtick\"><text text-anchor=\"start\" x=\"0\" y=\"267\" transform=\"translate(575,0) rotate(45,0,262)\" style=\"font-family: Rockwell; font-size: 10px; fill: rgb(36, 36, 36); fill-opacity: 1; white-space: pre; opacity: 1;\">container_oom_error</text></g><g class=\"xtick\"><text text-anchor=\"start\" x=\"0\" y=\"267\" transform=\"translate(601.92,0) rotate(45,0,262)\" style=\"font-family: Rockwell; font-size: 10px; fill: rgb(36, 36, 36); fill-opacity: 1; white-space: pre; opacity: 1;\">sonarqube_oom_error</text></g><g class=\"xtick\"><text text-anchor=\"start\" x=\"0\" y=\"267\" transform=\"translate(628.85,0) rotate(45,0,262)\" style=\"font-family: Rockwell; font-size: 10px; fill: rgb(36, 36, 36); fill-opacity: 1; white-space: pre; opacity: 1;\">dependency_installation_failure</text></g><g class=\"xtick\"><text text-anchor=\"start\" x=\"0\" y=\"267\" transform=\"translate(655.77,0) rotate(45,0,262)\" style=\"font-family: Rockwell; font-size: 10px; fill: rgb(36, 36, 36); fill-opacity: 1; white-space: pre; opacity: 1;\">repository_file_not_found</text></g><g class=\"xtick\"><text text-anchor=\"start\" x=\"0\" y=\"267\" transform=\"translate(682.69,0) rotate(45,0,262)\" style=\"font-family: Rockwell; font-size: 10px; fill: rgb(36, 36, 36); fill-opacity: 1; white-space: pre; opacity: 1;\">container_not_found</text></g><g class=\"xtick\"><text text-anchor=\"start\" x=\"0\" y=\"267\" transform=\"translate(709.62,0) rotate(45,0,262)\" style=\"font-family: Rockwell; font-size: 10px; fill: rgb(36, 36, 36); fill-opacity: 1; white-space: pre; opacity: 1;\">gcloud_token_limit_exceeded</text></g><g class=\"xtick\"><text text-anchor=\"start\" x=\"0\" y=\"267\" transform=\"translate(736.54,0) rotate(45,0,262)\" style=\"font-family: Rockwell; font-size: 10px; fill: rgb(36, 36, 36); fill-opacity: 1; white-space: pre; opacity: 1;\">stuck_or_timeout_failure</text></g><g class=\"xtick\"><text text-anchor=\"start\" x=\"0\" y=\"267\" transform=\"translate(763.46,0) rotate(45,0,262)\" style=\"font-family: Rockwell; font-size: 10px; fill: rgb(36, 36, 36); fill-opacity: 1; white-space: pre; opacity: 1;\">certificate_verification_failure</text></g><g class=\"xtick\"><text text-anchor=\"start\" x=\"0\" y=\"267\" transform=\"translate(790.38,0) rotate(45,0,262)\" style=\"font-family: Rockwell; font-size: 10px; fill: rgb(36, 36, 36); fill-opacity: 1; white-space: pre; opacity: 1;\">connection_refused</text></g><g class=\"xtick\"><text text-anchor=\"start\" x=\"0\" y=\"267\" transform=\"translate(817.31,0) rotate(45,0,262)\" style=\"font-family: Rockwell; font-size: 10px; fill: rgb(36, 36, 36); fill-opacity: 1; white-space: pre; opacity: 1;\">runner_instance_error</text></g><g class=\"xtick\"><text text-anchor=\"start\" x=\"0\" y=\"267\" transform=\"translate(844.23,0) rotate(45,0,262)\" style=\"font-family: Rockwell; font-size: 10px; fill: rgb(36, 36, 36); fill-opacity: 1; white-space: pre; opacity: 1;\">repository_file_access_error</text></g><g class=\"xtick\"><text text-anchor=\"start\" x=\"0\" y=\"267\" transform=\"translate(871.15,0) rotate(45,0,262)\" style=\"font-family: Rockwell; font-size: 10px; fill: rgb(36, 36, 36); fill-opacity: 1; white-space: pre; opacity: 1;\">db_table_undefined</text></g><g class=\"xtick\"><text text-anchor=\"start\" x=\"0\" y=\"267\" transform=\"translate(898.08,0) rotate(45,0,262)\" style=\"font-family: Rockwell; font-size: 10px; fill: rgb(36, 36, 36); fill-opacity: 1; white-space: pre; opacity: 1;\">runner_pod_not_found</text></g><g class=\"xtick\"><text text-anchor=\"start\" x=\"0\" y=\"267\" transform=\"translate(925,0) rotate(45,0,262)\" style=\"font-family: Rockwell; font-size: 10px; fill: rgb(36, 36, 36); fill-opacity: 1; white-space: pre; opacity: 1;\">buggy_dependency</text></g><g class=\"xtick\"><text text-anchor=\"start\" x=\"0\" y=\"267\" transform=\"translate(951.92,0) rotate(45,0,262)\" style=\"font-family: Rockwell; font-size: 10px; fill: rgb(36, 36, 36); fill-opacity: 1; white-space: pre; opacity: 1;\">device_oom_error</text></g><g class=\"xtick\"><text text-anchor=\"start\" x=\"0\" y=\"267\" transform=\"translate(978.85,0) rotate(45,0,262)\" style=\"font-family: Rockwell; font-size: 10px; fill: rgb(36, 36, 36); fill-opacity: 1; white-space: pre; opacity: 1;\">ssl_connection_error</text></g><g class=\"xtick\"><text text-anchor=\"start\" x=\"0\" y=\"267\" transform=\"translate(1005.77,0) rotate(45,0,262)\" style=\"font-family: Rockwell; font-size: 10px; fill: rgb(36, 36, 36); fill-opacity: 1; white-space: pre; opacity: 1;\">service_unavailable</text></g><g class=\"xtick\"><text text-anchor=\"start\" x=\"0\" y=\"267\" transform=\"translate(1032.69,0) rotate(45,0,262)\" style=\"font-family: Rockwell; font-size: 10px; fill: rgb(36, 36, 36); fill-opacity: 1; white-space: pre; opacity: 1;\">docker_pull_limit_reached</text></g><g class=\"xtick\"><text text-anchor=\"start\" x=\"0\" y=\"267\" transform=\"translate(1059.62,0) rotate(45,0,262)\" style=\"font-family: Rockwell; font-size: 10px; fill: rgb(36, 36, 36); fill-opacity: 1; white-space: pre; opacity: 1;\">os_cmd_execution_error</text></g><g class=\"xtick\"><text text-anchor=\"start\" x=\"0\" y=\"267\" transform=\"translate(1086.54,0) rotate(45,0,262)\" style=\"font-family: Rockwell; font-size: 10px; fill: rgb(36, 36, 36); fill-opacity: 1; white-space: pre; opacity: 1;\">image_build_permission_denied</text></g></g><g class=\"yaxislayer-above\"><path class=\"ytick ticks crisp\" d=\"M49,0h-5\" transform=\"translate(0,249)\" style=\"stroke: rgb(68, 68, 68); stroke-opacity: 1; stroke-width: 1px;\"/><path class=\"ytick ticks crisp\" d=\"M49,0h-5\" transform=\"translate(0,208.22)\" style=\"stroke: rgb(68, 68, 68); stroke-opacity: 1; stroke-width: 1px;\"/><path class=\"ytick ticks crisp\" d=\"M49,0h-5\" transform=\"translate(0,167.43)\" style=\"stroke: rgb(68, 68, 68); stroke-opacity: 1; stroke-width: 1px;\"/><path class=\"ytick ticks crisp\" d=\"M49,0h-5\" transform=\"translate(0,126.65)\" style=\"stroke: rgb(68, 68, 68); stroke-opacity: 1; stroke-width: 1px;\"/><path class=\"ytick ticks crisp\" d=\"M49,0h-5\" transform=\"translate(0,85.86)\" style=\"stroke: rgb(68, 68, 68); stroke-opacity: 1; stroke-width: 1px;\"/><path class=\"ytick ticks crisp\" d=\"M49,0h-5\" transform=\"translate(0,45.08)\" style=\"stroke: rgb(68, 68, 68); stroke-opacity: 1; stroke-width: 1px;\"/><path class=\"ytick ticks crisp\" d=\"M49,0h-5\" transform=\"translate(0,4.29)\" style=\"stroke: rgb(68, 68, 68); stroke-opacity: 1; stroke-width: 1px;\"/><g class=\"ytick\"><text text-anchor=\"end\" x=\"42\" y=\"3.5\" transform=\"translate(0,249)\" style=\"font-family: Rockwell; font-size: 10px; fill: rgb(36, 36, 36); fill-opacity: 1; white-space: pre; opacity: 1;\">0</text></g><g class=\"ytick\"><text text-anchor=\"end\" x=\"42\" y=\"3.5\" style=\"font-family: Rockwell; font-size: 10px; fill: rgb(36, 36, 36); fill-opacity: 1; white-space: pre; opacity: 1;\" transform=\"translate(0,208.22)\">10</text></g><g class=\"ytick\"><text text-anchor=\"end\" x=\"42\" y=\"3.5\" style=\"font-family: Rockwell; font-size: 10px; fill: rgb(36, 36, 36); fill-opacity: 1; white-space: pre; opacity: 1;\" transform=\"translate(0,167.43)\">20</text></g><g class=\"ytick\"><text text-anchor=\"end\" x=\"42\" y=\"3.5\" style=\"font-family: Rockwell; font-size: 10px; fill: rgb(36, 36, 36); fill-opacity: 1; white-space: pre; opacity: 1;\" transform=\"translate(0,126.65)\">30</text></g><g class=\"ytick\"><text text-anchor=\"end\" x=\"42\" y=\"3.5\" style=\"font-family: Rockwell; font-size: 10px; fill: rgb(36, 36, 36); fill-opacity: 1; white-space: pre; opacity: 1;\" transform=\"translate(0,85.86)\">40</text></g><g class=\"ytick\"><text text-anchor=\"end\" x=\"42\" y=\"3.5\" style=\"font-family: Rockwell; font-size: 10px; fill: rgb(36, 36, 36); fill-opacity: 1; white-space: pre; opacity: 1;\" transform=\"translate(0,45.08)\">50</text></g><g class=\"ytick\"><text text-anchor=\"end\" x=\"42\" y=\"3.5\" style=\"font-family: Rockwell; font-size: 10px; fill: rgb(36, 36, 36); fill-opacity: 1; white-space: pre; opacity: 0;\" transform=\"translate(0,4.29)\">60</text></g></g><g class=\"overaxes-above\"/></g></g><g class=\"polarlayer\"/><g class=\"smithlayer\"/><g class=\"ternarylayer\"/><g class=\"geolayer\"/><g class=\"funnelarealayer\"/><g class=\"pielayer\"/><g class=\"iciclelayer\"/><g class=\"treemaplayer\"/><g class=\"sunburstlayer\"/><g class=\"glimages\"/><defs id=\"topdefs-100514\"><g class=\"clips\"/></defs><g class=\"layer-above\"><g class=\"imagelayer\"/><g class=\"shapelayer\"/></g><g class=\"infolayer\"><g class=\"g-gtitle\"/><g class=\"g-xtitle\" transform=\"translate(0,-2.0201171874999773)\"><text class=\"xtitle\" x=\"575\" y=\"399.0201171875\" text-anchor=\"middle\" style=\"opacity: 1; font-family: Rockwell; font-size: 12px; fill: rgb(36, 36, 36); fill-opacity: 1; white-space: pre;\">category</text></g><g class=\"g-ytitle\"><text class=\"ytitle\" transform=\"rotate(-90,13.299999999999997,124.5)\" x=\"13.299999999999997\" y=\"124.5\" text-anchor=\"middle\" style=\"opacity: 1; font-family: Rockwell; font-size: 12px; fill: rgb(36, 36, 36); fill-opacity: 1; white-space: pre;\">count</text></g></g></svg>"
      ]
     },
     "metadata": {},
     "output_type": "display_data"
    }
   ],
   "source": [
    "plot_categories(\"sample2\") # type: ignore"
   ]
  },
  {
   "cell_type": "code",
   "execution_count": 42,
   "metadata": {},
   "outputs": [
    {
     "name": "stdout",
     "output_type": "stream",
     "text": [
      "\u001b[0KRunning with gitlab-runner 14.1.0 (8925d9a0)\n",
      "\u001b[0;m\u001b[0K  on pltf-shared-runner-c4bd5df74-xmjsn PaNmRfmj\n",
      "\u001b[0;msection_start:1686759194:resolve_secrets\n",
      "\u001b[0K\u001b[0K\u001b[36;1mResolving secrets\u001b[0;m\n",
      "\u001b[0;msection_end:1686759194:resolve_secrets\n",
      "\u001b[0Ksection_start:1686759194:prepare_executor\n",
      "\u001b[0K\u001b[0K\u001b[36;1mPreparing the \"kubernetes\" executor\u001b[0;m\n",
      "\u001b[0;m\u001b[0KUsing Kubernetes namespace: plt-gitlab-runners\n",
      "\u001b[0;m\u001b[0KUsing Kubernetes executor with image image-registry.openshift-image-registry.svc:5000/openshift/uapi-gw-alpine:develop ...\n",
      "\u001b[0;m\u001b[0KUsing attach strategy to execute scripts...\n",
      "\u001b[0;msection_end:1686759194:prepare_executor\n",
      "\u001b[0Ksection_start:1686759194:prepare_script\n",
      "\u001b[0K\u001b[0K\u001b[36;1mPreparing environment\u001b[0;m\n",
      "\u001b[0;mWaiting for pod plt-gitlab-runners/runner-panmrfmj-project-1281-concurrent-0mngbf to be running, status is Pending\n",
      "Waiting for pod plt-gitlab-runners/runner-panmrfmj-project-1281-concurrent-0mngbf to be running, status is Pending\n",
      "\tContainersNotReady: \"containers with unready status: [build helper]\"\n",
      "\tContainersNotReady: \"containers with unready status: [build helper]\"\n",
      "Running on runner-panmrfmj-project-1281-concurrent-0mngbf via pltf-shared-runner-c4bd5df74-xmjsn...\n",
      "section_end:1686759201:prepare_script\n",
      "\u001b[0Ksection_start:1686759201:get_sources\n",
      "\u001b[0K\u001b[0K\u001b[36;1mGetting source from Git repository\u001b[0;m\n",
      "\u001b[0;m\u001b[32;1mFetching changes with git depth set to 20...\u001b[0;m\n",
      "Initialized empty Git repository in /builds/PaNmRfmj/0/tinaa/platform/universal-api-gateway/api_proxy/.git/\n",
      "\u001b[32;1mCreated fresh repository.\u001b[0;m\n",
      "\u001b[32;1mChecking out 3890a4e0 as develop...\u001b[0;m\n",
      "\n",
      "\u001b[32;1mSkipping Git submodules setup\u001b[0;m\n",
      "section_end:1686759202:get_sources\n",
      "\u001b[0Ksection_start:1686759202:step_script\n",
      "\u001b[0K\u001b[0K\u001b[36;1mExecuting \"step_script\" stage of the job script\u001b[0;m\n",
      "\u001b[0;m\u001b[32;1m$ apk add --no-cache jq curl zip unzip\u001b[0;m\n",
      "fetch https://dl-cdn.alpinelinux.org/alpine/v3.14/main/x86_64/APKINDEX.tar.gz\n",
      "fetch https://dl-cdn.alpinelinux.org/alpine/v3.14/community/x86_64/APKINDEX.tar.gz\n",
      "(1/9) Installing ca-certificates (20230506-r0)\n",
      "(2/9) Installing brotli-libs (1.0.9-r5)\n",
      "(3/9) Installing nghttp2-libs (1.43.0-r0)\n",
      "(4/9) Installing libcurl (8.0.1-r0)\n",
      "(5/9) Installing curl (8.0.1-r0)\n",
      "(6/9) Installing oniguruma (6.9.7.1-r0)\n",
      "(7/9) Installing jq (1.6-r1)\n",
      "(8/9) Installing unzip (6.0-r9)\n",
      "(9/9) Installing zip (3.0-r9)\n",
      "Executing busybox-1.33.1-r8.trigger\n",
      "Executing ca-certificates-20230506-r0.trigger\n",
      "OK: 10 MiB in 23 packages\n",
      "\u001b[32;1m$ echo \"https://dl-cdn.alpinelinux.org/alpine/edge/community\" | tee -a /etc/apk/repositories\u001b[0;m\n",
      "https://dl-cdn.alpinelinux.org/alpine/edge/community\n",
      "\u001b[32;1m$ apk update\u001b[0;m\n",
      "fetch https://dl-cdn.alpinelinux.org/alpine/v3.14/main/x86_64/APKINDEX.tar.gz\n",
      "fetch https://dl-cdn.alpinelinux.org/alpine/v3.14/community/x86_64/APKINDEX.tar.gz\n",
      "fetch https://dl-cdn.alpinelinux.org/alpine/edge/community/x86_64/APKINDEX.tar.gz\n",
      "v3.14.10-44-g795633e54e9 [https://dl-cdn.alpinelinux.org/alpine/v3.14/main]\n",
      "v3.14.10-42-gd8ce7b89082 [https://dl-cdn.alpinelinux.org/alpine/v3.14/community]\n",
      "v3.18.0-3218-g5e784393800 [https://dl-cdn.alpinelinux.org/alpine/edge/community]\n",
      "OK: 30046 distinct packages available\n",
      "\u001b[32;1m$ apk add git\u001b[0;m\n",
      "(1/3) Installing expat (2.5.0-r0)\n",
      "(2/3) Installing pcre2 (10.36-r1)\n",
      "(3/3) Installing git (2.32.7-r0)\n",
      "Executing busybox-1.33.1-r8.trigger\n",
      "OK: 21 MiB in 26 packages\n",
      "\u001b[32;1m$ apk add --no-cache jq curl wget\u001b[0;m\n",
      "fetch https://dl-cdn.alpinelinux.org/alpine/v3.14/main/x86_64/APKINDEX.tar.gz\n",
      "fetch https://dl-cdn.alpinelinux.org/alpine/v3.14/community/x86_64/APKINDEX.tar.gz\n",
      "fetch https://dl-cdn.alpinelinux.org/alpine/edge/community/x86_64/APKINDEX.tar.gz\n",
      "(1/3) Installing libunistring (0.9.10-r1)\n",
      "(2/3) Installing libidn2 (2.3.1-r0)\n",
      "(3/3) Installing wget (1.21.1-r1)\n",
      "Executing busybox-1.33.1-r8.trigger\n",
      "OK: 23 MiB in 29 packages\n",
      "\u001b[32;1m$ cat $TRIGGER_PAYLOAD\u001b[0;m\n",
      "\u001b[32;1m$ echo $TRIGGER_PAYLOAD\u001b[0;m\n",
      "\n",
      "\u001b[32;1m$ echo $PROXY_NAME\u001b[0;m\n",
      "sample-ML\n",
      "\u001b[32;1m$ echo $PROXY_PATH\u001b[0;m\n",
      "\n",
      "\u001b[32;1m$ echo $ENV\u001b[0;m\n",
      "develop\n",
      "\u001b[32;1m$ echo $BACKEND_PATH\u001b[0;m\n",
      "\n",
      "\u001b[32;1m$ echo $BACKEND_HOST_PORT\u001b[0;m\n",
      "\n",
      "\u001b[32;1m$ echo $APIGEE_API_PROXY_NAME\u001b[0;m\n",
      "sample-ML\n",
      "\u001b[32;1m$ echo $APIGEE_API_PROXY_CONFIG_FILE\u001b[0;m\n",
      "sample-ML.zip\n",
      "\u001b[32;1m$ echo $ORGANIZATION_DEV\u001b[0;m\n",
      "nfv-pp-tinaa-03\n",
      "\u001b[32;1m$ echo $ORGANIZATION_PROD\u001b[0;m\n",
      "tu-nfv-tinaa-01-pr\n",
      "\u001b[32;1m$ ls -lrt\u001b[0;m\n",
      "total 36\n",
      "-rw-rw-rw-    1 root     root          3065 Jun 14 16:13 tinaa-insight_rev3_2023_05_19.zip\n",
      "drwxrwxrwx    2 root     root            75 Jun 14 16:13 scripts\n",
      "-rw-rw-rw-    1 root     root          1808 Jun 14 16:13 ca.crt\n",
      "-rw-rw-rw-    1 root     root         10674 Jun 14 16:13 apiproxy.sh\n",
      "-rw-rw-rw-    1 root     root          6708 Jun 14 16:13 TINAA-Executor-API_rev20_2023_04_13.zip\n",
      "-rw-rw-rw-    1 root     root          1494 Jun 14 16:13 README.md\n",
      "drwxrwxrwx   78 root     root          4096 Jun 14 16:13 PROCESSED_PROXY\n",
      "\u001b[32;1m$ cat /etc/os-release\u001b[0;m\n",
      "NAME=\"Alpine Linux\"\n",
      "ID=alpine\n",
      "VERSION_ID=3.14.10\n",
      "PRETTY_NAME=\"Alpine Linux v3.14\"\n",
      "HOME_URL=\"https://alpinelinux.org/\"\n",
      "BUG_REPORT_URL=\"https://bugs.alpinelinux.org/\"\n",
      "\u001b[32;1m$ apk add python3\u001b[0;m\n",
      "(1/12) Installing libbz2 (1.0.8-r1)\n",
      "(2/12) Installing libffi (3.3-r2)\n",
      "(3/12) Installing gdbm (1.19-r0)\n",
      "(4/12) Installing xz-libs (5.2.5-r1)\n",
      "(5/12) Installing libgcc (10.3.1_git20210424-r2)\n",
      "(6/12) Installing libstdc++ (10.3.1_git20210424-r2)\n",
      "(7/12) Installing mpdecimal (2.5.1-r1)\n",
      "(8/12) Installing ncurses-terminfo-base (6.2_p20210612-r1)\n",
      "(9/12) Installing ncurses-libs (6.2_p20210612-r1)\n",
      "(10/12) Installing readline (8.1.0-r0)\n",
      "(11/12) Installing sqlite-libs (3.35.5-r0)\n",
      "(12/12) Installing python3 (3.9.17-r0)\n",
      "Executing busybox-1.33.1-r8.trigger\n",
      "OK: 74 MiB in 41 packages\n",
      "\u001b[32;1m$ apk add perl\u001b[0;m\n",
      "(1/4) Installing perl (5.32.1-r0)\n",
      "(2/4) Installing perl-error (0.17029-r1)\n",
      "(3/4) Installing perl-git (2.32.7-r0)\n",
      "(4/4) Installing git-perl (2.32.7-r0)\n",
      "Executing busybox-1.33.1-r8.trigger\n",
      "OK: 112 MiB in 45 packages\n",
      "\u001b[32;1m$ apk add npm\u001b[0;m\n",
      "(1/3) Installing c-ares (1.17.2-r0)\n",
      "(2/3) Installing nodejs (14.21.3-r0)\n",
      "(3/3) Installing npm (9.7.1-r0)\n",
      "Executing busybox-1.33.1-r8.trigger\n",
      "OK: 161 MiB in 48 packages\n",
      "\u001b[32;1m$ apk add bash\u001b[0;m\n",
      "(1/1) Installing bash (5.1.16-r0)\n",
      "Executing bash-5.1.16-r0.post-install\n",
      "Executing busybox-1.33.1-r8.trigger\n",
      "OK: 162 MiB in 49 packages\n",
      "\u001b[32;1m$ npm install -g apigeelint\u001b[0;m\n",
      "npm WARN deprecated sourcemap-codec@1.4.8: Please use @jridgewell/sourcemap-codec instead\n",
      "\n",
      "added 314 packages in 12s\n",
      "\n",
      "48 packages are looking for funding\n",
      "  run `npm fund` for details\n",
      "\u001b[32;1m$ python3 -V\u001b[0;m\n",
      "Python 3.9.17\n",
      "\u001b[32;1m$ chmod +x apiproxy.sh\u001b[0;m\n",
      "\u001b[32;1m$ ./apiproxy.sh\u001b[0;m\n",
      "sample-ML\n",
      "sample-ML.zip\n",
      "nfv-pp-tinaa-03\n",
      "tu-nfv-tinaa-01-pr\n",
      "https://apigee.googleapis.com/v1/organizations\n",
      "/builds/PaNmRfmj/0/tinaa/platform/universal-api-gateway/api_proxy\n",
      "Google Cloud SDK 429.0.0\n",
      "bq 2.0.92\n",
      "bundled-python3-unix 3.9.16\n",
      "core 2023.04.28\n",
      "gcloud-crc32c 1.0.0\n",
      "gsutil 5.23\n",
      "Activated service account credentials for: [apigee-pipeline-sa@tu-nfv-tinaa-01-np.iam.gserviceaccount.com]\n",
      "Updated property [core/project].\n",
      "./apiproxy.sh: cd: line 39: can't cd to PROCESSED_PROXY/sample-ML: No such file or directory\n",
      "internal/fs/utils.js:332\n",
      "    throw err;\n",
      "    ^\n",
      "\n",
      "Error: ENOENT: no such file or directory, scandir '/builds/PaNmRfmj/0/tinaa/platform/universal-api-gateway/api_proxy/apiproxy'\n",
      "    at Object.readdirSync (fs.js:1048:3)\n",
      "    at processFileSystem (/usr/local/lib/node_modules/apigeelint/lib/package/Bundle.js:180:18)\n",
      "    at new Bundle (/usr/local/lib/node_modules/apigeelint/lib/package/Bundle.js:295:5)\n",
      "    at Object.lint (/usr/local/lib/node_modules/apigeelint/lib/package/bundleLinter.js:72:10)\n",
      "    at Object.<anonymous> (/usr/local/lib/node_modules/apigeelint/cli.js:93:4)\n",
      "    at Module._compile (internal/modules/cjs/loader.js:1114:14)\n",
      "    at Object.Module._extensions..js (internal/modules/cjs/loader.js:1143:10)\n",
      "    at Module.load (internal/modules/cjs/loader.js:979:32)\n",
      "    at Function.Module._load (internal/modules/cjs/loader.js:819:12)\n",
      "    at Function.executeUserEntryPoint [as runMain] (internal/modules/run_main.js:75:12) {\n",
      "  errno: -2,\n",
      "  syscall: 'scandir',\n",
      "  code: 'ENOENT',\n",
      "  path: '/builds/PaNmRfmj/0/tinaa/platform/universal-api-gateway/api_proxy/apiproxy'\n",
      "}\n",
      "\tzip warning: name not matched: apiproxy\n",
      "\n",
      "zip error: Nothing to do! (try: zip -r sample-ML.zip . -i apiproxy)\n",
      "manual triger\n",
      "upload_zipfile_to_apigee_portal\n",
      "PROCESSED_PROXY/sample-ML/sample-ML.zip\n",
      "curl: (26) Failed to open/read local data from file/application\n",
      "zip file uploading API is failed\n",
      "section_end:1686759257:step_script\n",
      "\u001b[0Ksection_start:1686759257:cleanup_file_variables\n",
      "\u001b[0K\u001b[0K\u001b[36;1mCleaning up file based variables\u001b[0;m\n",
      "\u001b[0;msection_end:1686759258:cleanup_file_variables\n",
      "\u001b[0K\u001b[31;1mERROR: Job failed: command terminated with exit code 1\n",
      "\u001b[0;m\n"
     ]
    }
   ],
   "source": [
    "view_logs(304327,1281)"
   ]
  },
  {
   "cell_type": "markdown",
   "metadata": {},
   "source": [
    "### Sample dataset creation"
   ]
  },
  {
   "cell_type": "code",
   "execution_count": 43,
   "metadata": {},
   "outputs": [],
   "source": [
    "sample1 = pd.read_csv(\"../data/samples/sample1.csv\")\n",
    "sample2 = pd.read_csv(\"../data/samples/sample2.csv\")\n",
    "sample = pd.concat([sample1, sample2], axis=0)\n",
    "\n",
    "sample.drop(columns=[\"group\", \"failure_reason\", \"inferred\"], inplace=True)\n",
    "sample = sample[~sample[\"category\"].isnull()]\n",
    "\n",
    "sample[\"log\"] = sample.apply(lambda row: read_logs(row[\"id\"], row[\"project\"]), axis=1)\n",
    "sample.to_csv(f\"../data/labeled_sample.csv\", index=False)"
   ]
  },
  {
   "cell_type": "markdown",
   "metadata": {},
   "source": [
    "### Labeling intermittent failures using refined patterns"
   ]
  },
  {
   "cell_type": "code",
   "execution_count": 44,
   "metadata": {},
   "outputs": [
    {
     "data": {
      "text/html": [
       "<div>\n",
       "<style scoped>\n",
       "    .dataframe tbody tr th:only-of-type {\n",
       "        vertical-align: middle;\n",
       "    }\n",
       "\n",
       "    .dataframe tbody tr th {\n",
       "        vertical-align: top;\n",
       "    }\n",
       "\n",
       "    .dataframe thead th {\n",
       "        text-align: right;\n",
       "    }\n",
       "</style>\n",
       "<table border=\"1\" class=\"dataframe\">\n",
       "  <thead>\n",
       "    <tr style=\"text-align: right;\">\n",
       "      <th></th>\n",
       "      <th>id</th>\n",
       "      <th>failure_reason</th>\n",
       "      <th>project</th>\n",
       "      <th>log</th>\n",
       "    </tr>\n",
       "  </thead>\n",
       "  <tbody>\n",
       "    <tr>\n",
       "      <th>0</th>\n",
       "      <td>24005</td>\n",
       "      <td>unknown_failure</td>\n",
       "      <td>44</td>\n",
       "      <td>../../telus-flaky-build/data/logs/44/44_24005.log</td>\n",
       "    </tr>\n",
       "    <tr>\n",
       "      <th>1</th>\n",
       "      <td>24006</td>\n",
       "      <td>unknown_failure</td>\n",
       "      <td>44</td>\n",
       "      <td>../../telus-flaky-build/data/logs/44/44_24006.log</td>\n",
       "    </tr>\n",
       "    <tr>\n",
       "      <th>3</th>\n",
       "      <td>102394</td>\n",
       "      <td>script_failure</td>\n",
       "      <td>44</td>\n",
       "      <td>../../telus-flaky-build/data/logs/44/44_102394...</td>\n",
       "    </tr>\n",
       "  </tbody>\n",
       "</table>\n",
       "</div>"
      ],
      "text/plain": [
       "       id   failure_reason  project  \\\n",
       "0   24005  unknown_failure       44   \n",
       "1   24006  unknown_failure       44   \n",
       "3  102394   script_failure       44   \n",
       "\n",
       "                                                 log  \n",
       "0  ../../telus-flaky-build/data/logs/44/44_24005.log  \n",
       "1  ../../telus-flaky-build/data/logs/44/44_24006.log  \n",
       "3  ../../telus-flaky-build/data/logs/44/44_102394...  "
      ]
     },
     "execution_count": 44,
     "metadata": {},
     "output_type": "execute_result"
    }
   ],
   "source": [
    "df.head(3)"
   ]
  },
  {
   "cell_type": "code",
   "execution_count": 45,
   "metadata": {},
   "outputs": [
    {
     "data": {
      "text/plain": [
       "(5256, 4)"
      ]
     },
     "execution_count": 45,
     "metadata": {},
     "output_type": "execute_result"
    }
   ],
   "source": [
    "df.shape"
   ]
  },
  {
   "cell_type": "code",
   "execution_count": 47,
   "metadata": {},
   "outputs": [
    {
     "name": "stdout",
     "output_type": "stream",
     "text": [
      "85.83% of jobs are assigned in 2644.472333360929s\n"
     ]
    }
   ],
   "source": [
    "from timeit import default_timer as timer\n",
    "\n",
    "df_copy = df.copy(deep=True)\n",
    "df_copy[\"group\"] = None\n",
    "df_copy[\"category\"] = None\n",
    "\n",
    "patterns = pd.read_csv(f\"../src/labeling/patterns_refined.csv\")\n",
    "\n",
    "def assign_category(row):\n",
    "    \"\"\"Infer job group and category based on manual patterns.\"\"\"\n",
    "    if row[\"group\"] is not None:\n",
    "        return row['group'], row['category']\n",
    "    if row[\"failure_reason\"] == \"stuck_or_timeout_failure\":\n",
    "        return \"limits_exceeded\", row[\"failure_reason\"]\n",
    "    for _, pattern in patterns.iterrows():\n",
    "        logs = read_logs(row[\"id\"], row[\"project\"])\n",
    "        if re.search(pattern[\"regex\"], logs, flags=re.IGNORECASE) is not None:\n",
    "            return pattern[\"group\"], pattern[\"category\"]\n",
    "    return None, None\n",
    "\n",
    "\n",
    "# Automatically assing jobs to categories and subcategories based on manual regex patterns\n",
    "start = timer()\n",
    "df_copy['group'], df_copy['category'] = zip(*df_copy.apply(assign_category, axis=1))\n",
    "duration = timer() - start\n",
    "\n",
    "df_copy[~df_copy['category'].isnull()].to_csv(\"../data/labeled_intermittent_failures.csv\", index=False)\n",
    "\n",
    "\n",
    "# Check the obtained coverage\n",
    "n_labeled = df_copy[~df_copy[\"group\"].isna()].shape[0]\n",
    "print(f\"{round(float(n_labeled / df_copy.shape[0]) * 100, 2)}% of jobs are assigned in {duration}s\")"
   ]
  }
 ],
 "metadata": {
  "kernelspec": {
   "display_name": "telus-intermittent-failures-H3ka6I3q-py3.10",
   "language": "python",
   "name": "python3"
  },
  "language_info": {
   "codemirror_mode": {
    "name": "ipython",
    "version": 3
   },
   "file_extension": ".py",
   "mimetype": "text/x-python",
   "name": "python",
   "nbconvert_exporter": "python",
   "pygments_lexer": "ipython3",
   "version": "3.10.12"
  }
 },
 "nbformat": 4,
 "nbformat_minor": 2
}
